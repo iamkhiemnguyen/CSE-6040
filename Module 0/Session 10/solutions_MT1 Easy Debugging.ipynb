{
  "cells": [
    {
      "cell_type": "markdown",
      "metadata": {
        "id": "view-in-github",
        "colab_type": "text"
      },
      "source": [
        "<a href=\"https://colab.research.google.com/github/iamkhiemnguyen/CSE-6040/blob/main/Module%200/Session%2010/solutions_MT1%20Easy%20Debugging.ipynb\" target=\"_parent\"><img src=\"https://colab.research.google.com/assets/colab-badge.svg\" alt=\"Open In Colab\"/></a>"
      ]
    },
    {
      "cell_type": "markdown",
      "id": "6b557f37",
      "metadata": {
        "nbgrader": {
          "grade": false,
          "locked": true,
          "solution": false
        },
        "tags": [
          "notebook_header"
        ],
        "id": "6b557f37"
      },
      "source": [
        "# Debugging Bad Solutions: #\n",
        "## From Midterm 1, Spring 2023 - 1 Point Exercises ##\n",
        "\n",
        "**Purpose:**\n",
        "On the exams you may initially write solutions that do not pass the test cases. That's okay! You will need to debug your code to determine what is causing the issue(s) and then figure out to how fix them. So how can we get better at debugging? We practice!\n",
        "\n",
        "Below are four 1 point exercises from the Spring 2023 Midterm 1. We have pre-written solutions for each exercise that are \"bad\" in one or more ways. Our solutions may contain one or more logic and/or syntax errors. Can you find and fix the issues in each exercise and pass all of the test cases?\n",
        "\n",
        "Right before each exercise test cell, there is a block of text explaining the variables available to you for debugging. You may use these to test your code and can print/display them as needed.\n",
        "\n",
        "<br/>\n",
        "\n",
        "**Exercise point breakdown:**\n",
        "\n",
        "- Exercise 0: **1** point\n",
        "- Exercise 1: **1** point\n",
        "- Exercise 5: **1** point\n",
        "- Exercise 6: **1** point"
      ]
    },
    {
      "cell_type": "markdown",
      "id": "44bea3e0",
      "metadata": {
        "nbgrader": {
          "grade": false,
          "locked": true,
          "solution": false
        },
        "tags": [
          "topic_intro"
        ],
        "id": "44bea3e0"
      },
      "source": [
        "# Background: Mining for Friends #\n",
        "\n",
        "In this notebook, you will analyze social media data from Twitter and FourSquare. Your ultimate goal will be to help people find others with common interests.\n",
        "\n",
        "The (anonymized) data consists of the following:\n",
        "\n",
        "- A collection of places, or _points of interest_ (POIs), like restaurants, movie theaters, post offices, museums, and so on.\n",
        "- A database of cities.\n",
        "- A collection of _check-ins_, that is, the places that a specific person has visited.\n",
        "- Existing _connections_, that is, \"who follows whom\" type relationships.\n",
        "\n",
        "We will analyze this data and then, by the very last exercise, create a function that can, for a given person, recommend other people they might be compatible with based on their affinity for the same places.\n",
        "\n",
        "Start by running the next cell, which will set up some of the code and data you'll need later."
      ]
    },
    {
      "cell_type": "markdown",
      "source": [],
      "metadata": {
        "id": "OgFY2JYElxw9"
      },
      "id": "OgFY2JYElxw9"
    },
    {
      "cell_type": "code",
      "execution_count": null,
      "id": "515640fb",
      "metadata": {
        "id": "515640fb"
      },
      "outputs": [],
      "source": [
        "# !python --version\n",
        "!pip install dill\n",
        "import dill as pickle"
      ]
    },
    {
      "cell_type": "code",
      "execution_count": null,
      "id": "25c65a7b",
      "metadata": {
        "nbgrader": {
          "grade": false,
          "locked": true,
          "solution": false
        },
        "tags": [
          "global_imports"
        ],
        "id": "25c65a7b"
      },
      "outputs": [],
      "source": [
        "### Global Imports\n",
        "# Some functionality needed by the notebook and demo cells:\n",
        "from pprint import pprint, pformat\n",
        "import math\n",
        "\n",
        "def status_msg(s, time=None):\n",
        "    from datetime import datetime\n",
        "    if time is None:\n",
        "        time = datetime.now()\n",
        "    print(f\"[{time}] {s}\")\n",
        "\n",
        "def load_json(filename):\n",
        "    from json import load\n",
        "    with open(filename, \"rt\") as fp:\n",
        "        return load(fp)\n",
        "    return None\n",
        "\n",
        "def save_json(filename, obj):\n",
        "    from json import dump\n",
        "    with open(filename, \"w\") as fp:\n",
        "        dump(obj, fp, indent=2)\n",
        "\n",
        "def load_pickle(filename):\n",
        "    from pickle import load\n",
        "    with open(filename, \"rb\") as fp:\n",
        "        return load(fp)\n",
        "    return None\n",
        "\n",
        "def save_pickle(filename, obj):\n",
        "    from pickle import dump\n",
        "    with open(filename, \"wb\") as fp:\n",
        "        dump(obj, fp)\n",
        "\n",
        "def choose_ext(s, ext_map):\n",
        "    for ext in ext_map:\n",
        "        if s[-(len(ext)+1):] == f\".{ext}\":\n",
        "            return ext_map[ext]\n",
        "    return None\n",
        "\n",
        "def load_database(basename, tag=None, sample=None, pathname=\"\"):  # pathname=\"resource/asnlib/publicdata/\"\n",
        "    filename = pathname + basename\n",
        "    status_msg(f\"Loading {tag+' ' if tag is not None else ''}[{filename}] ...\")\n",
        "    loader = choose_ext(basename, {'pickle': load_pickle, 'json': load_json})\n",
        "    assert loader is not None, \"*** Unrecognized file extension. ***\"\n",
        "    database = loader(filename)\n",
        "    status_msg(\"... done!\")\n",
        "    print(f\"\\nThis data has {len(database):,} entries.\")\n",
        "    if sample is not None and isinstance(database, dict):\n",
        "        print(\"\\nHere is a sample:\\n\")\n",
        "        pprint({key: database[key] for key in sample})\n",
        "    return database\n",
        "\n",
        "def save_database(database, basename, tag=None, sample=None, pathname=\"\"):  #  pathname=\"resource/asnlib/publicdata/\"\n",
        "    if sample is not None and isinstance(database, dict):\n",
        "        database = {key: database[key] for key in sample}\n",
        "    print(f\"This data has {len(database):,} entries.\")\n",
        "    filename = pathname + basename\n",
        "    status_msg(f\"\\nSaving {tag+' ' if tag is not None else ''}[{filename}] ...\")\n",
        "    saver = choose_ext(basename, {'pickle': save_pickle, 'json': save_json})\n",
        "    assert saver is not None, \"*** Unrecognized file extension. ***\"\n",
        "    saver(filename, database)\n",
        "    status_msg(\"... done!\")\n",
        "\n",
        "def sample_dict(d, k=1):\n",
        "    \"\"\"Extract a sample of at most `k` key-value pairs from the dictionary `d`.\"\"\"\n",
        "    assert k >= 0, f\"*** The number of samples must be nonnegative (k={k}). ***\"\n",
        "    from random import sample\n",
        "    keys = sample(d.keys(), min(k, len(list(d.keys()))))\n",
        "    return {k: d[k] for k in keys}\n",
        "\n",
        "def sample_safely(x, k):\n",
        "    \"\"\"Returns a set of at most `k` uniform-random samples from `x`.\"\"\"\n",
        "    from random import sample\n",
        "    return set(sample(x, min(k, len(x))))\n",
        "\n",
        "def subset_dict(d, ks):\n",
        "    \"\"\"Returns a subset of the dictionary `d` for the keys `ks`.\"\"\"\n",
        "    return {k: v for k, v in d.items() if k in ks}\n",
        "\n",
        "def enum_map(x):\n",
        "    map_dict = {e: k for k, e in enumerate(x)}\n",
        "    return lambda i: map_dict[i]\n",
        "\n",
        "def remap_dict(d, map_key=lambda k: k, map_val=lambda k: k):\n",
        "    \"\"\"Relabel the key-value pairs of a dictionary.\"\"\"\n",
        "    assert len(set(map_key(k) for k in d.keys())) == len(d.keys()), '*** `map_key` is not one to one ***'\n",
        "#    assert len(set(map_val(k) for k in d.values())) == len(d.values()), '*** `map_val` is not one to one ***'\n",
        "    return {map_key(k): map_val(v) for k, v in d.items()}\n",
        "\n",
        "def remap_set(s, map_fun=lambda e: e):\n",
        "    \"\"\"Relabel the elements of a set.\"\"\"\n",
        "    s_new = {map_fun(e) for e in s}\n",
        "    assert len(s_new) == len(s), \"*** `map_fun` is not one to one ***\"\n",
        "    return s_new"
      ]
    },
    {
      "cell_type": "code",
      "execution_count": null,
      "id": "73ddd9e4",
      "metadata": {
        "id": "73ddd9e4"
      },
      "outputs": [],
      "source": [
        "# import files\n",
        "!wget https://raw.githubusercontent.com/gt-cse-6040/bootcamp/main/Module%200/Session%2010/Colab%20Support%20Files/active_users.pickle\n",
        "!wget https://raw.githubusercontent.com/gt-cse-6040/bootcamp/main/Module%200/Session%2010/Colab%20Support%20Files/cities.pickle\n",
        "!wget https://raw.githubusercontent.com/gt-cse-6040/bootcamp/main/Module%200/Session%2010/Colab%20Support%20Files/connections.pickle\n",
        "!wget https://raw.githubusercontent.com/gt-cse-6040/bootcamp/main/Module%200/Session%2010/Colab%20Support%20Files/food_and_drink_types.pickle\n",
        "!wget https://raw.githubusercontent.com/gt-cse-6040/bootcamp/main/Module%200/Session%2010/Colab%20Support%20Files/pois2.pickle\n",
        "!wget https://raw.githubusercontent.com/gt-cse-6040/bootcamp/main/Module%200/Session%2010/Colab%20Support%20Files/tc_0\n",
        "!wget https://raw.githubusercontent.com/gt-cse-6040/bootcamp/main/Module%200/Session%2010/Colab%20Support%20Files/tc_1\n",
        "!wget https://raw.githubusercontent.com/gt-cse-6040/bootcamp/main/Module%200/Session%2010/Colab%20Support%20Files/tc_5\n",
        "!wget https://raw.githubusercontent.com/gt-cse-6040/bootcamp/main/Module%200/Session%2010/Colab%20Support%20Files/tc_6\n",
        "\n",
        "!mkdir tester_fw\n",
        "%cd tester_fw\n",
        "\n",
        "!wget https://raw.githubusercontent.com/gt-cse-6040/bootcamp/main/Module%200/Session%2010/Colab%20Support%20Files/tester_fw/__init__.py\n",
        "!wget https://raw.githubusercontent.com/gt-cse-6040/bootcamp/main/Module%200/Session%2010/Colab%20Support%20Files/tester_fw/test_utils.py\n",
        "!wget https://raw.githubusercontent.com/gt-cse-6040/bootcamp/main/Module%200/Session%2010/Colab%20Support%20Files/tester_fw/testers.py\n",
        "\n",
        "%cd .."
      ]
    },
    {
      "cell_type": "markdown",
      "id": "0868b29f",
      "metadata": {
        "nbgrader": {
          "grade": false,
          "locked": true,
          "solution": false
        },
        "id": "0868b29f"
      },
      "source": [
        "# Part A: Points-of-interest and cities #\n",
        "\n",
        "The first part of the dataset consists of **points-of-interest** or **POIs**. A POI is a place that a person can visit.\n",
        "\n",
        "Run this code cell to load the dataset of POIs."
      ]
    },
    {
      "cell_type": "code",
      "execution_count": null,
      "id": "e5040c19",
      "metadata": {
        "nbgrader": {
          "grade": false,
          "locked": true,
          "solution": false
        },
        "id": "e5040c19"
      },
      "outputs": [],
      "source": [
        "pois = load_database('pois2.pickle',\n",
        "                     tag=\"points-of-interest (POIs)\")"
      ]
    },
    {
      "cell_type": "markdown",
      "id": "4d0c86c5",
      "metadata": {
        "nbgrader": {
          "grade": false,
          "locked": true,
          "solution": false
        },
        "id": "4d0c86c5"
      },
      "source": [
        "There are over half-a-million POIs. Each one is stored as a key-value pair where\n",
        "- the key is the **POI's ID**; and\n",
        "- the value holds the **POI's attributes**, stored as another Python dictionary.\n",
        "\n",
        "In the sample above, there are three POIs, each one with four attributes.\n",
        "- **`'country_code'`**: A two-letter country code indicating in which country the POI is located. In this example, one is in Brazil (`'BR'`) and two in Turkey (`'TR'`).\n",
        "- **`'lat'` and `'long'`**: The latitude and longitude coordinates of the POI.\n",
        "- **`'type'`**: The type of POI. We see three types in this example: a `'University'`, a `'Automotive Shop'`, and a `'Turkish Restaurant'`."
      ]
    },
    {
      "cell_type": "markdown",
      "id": "4741fff5",
      "metadata": {
        "nbgrader": {
          "grade": false,
          "locked": true,
          "solution": false
        },
        "tags": [
          "exercise_text"
        ],
        "id": "4741fff5"
      },
      "source": [
        "## Exercise 0 (**1** point): `find_food_and_drink_types` ##\n",
        "\n",
        "To practice inspecting the POIs, suppose we want to find types of POIs that are associated with restaurants, bars, and the like. Implement the function,\n",
        "```python\n",
        "def find_food_and_drink_types(pois):\n",
        "    ...\n",
        "```\n",
        "to accomplish this task.\n",
        "\n",
        "**Inputs:** A collection of POIs as shown above, given as a Python dictionary of dictionaries.\n",
        "\n",
        "**Task:** For each POI type, which is a string, split the string into \"words\" using whitespace as a delimiter.\n",
        "\n",
        "Compare each word to the target list, below. Consider the word a \"match\" if it is exactly the same except for case. (So `'Food'` and `'FOOD'` match `'food'`, but `'foods'` and `'food'` do not match.)\n",
        "\n",
        "The target words are:\n",
        "```\n",
        "'bar', 'bars', 'beer', 'brewery', 'cafe', 'cafes', 'coffee',\n",
        "'cocktail', 'cocktails', 'drink', 'drinks', 'food',\n",
        "'restaurant', 'restaurants', 'sake', 'tea', 'wine',\n",
        "'whisky', 'whiskey'\n",
        "```\n",
        "\n",
        "**Outputs:** Return a Python set containing types whose words matched the target list. The case of the returned types should match the originals _exactly_, including case. (See the demo.)"
      ]
    },
    {
      "cell_type": "code",
      "execution_count": null,
      "id": "9ef28cc9",
      "metadata": {
        "nbgrader": {
          "grade": false,
          "locked": true,
          "solution": false
        },
        "tags": [
          "demo_data"
        ],
        "id": "9ef28cc9"
      },
      "outputs": [],
      "source": [
        "# Demo input:\n",
        "demo_pois_ex0 = {'4c0e251bb1b676b0f788e186': {\n",
        "                     'country_code': 'AT',\n",
        "                     'lat': 48.257386,\n",
        "                     'long': 16.400122,\n",
        "                     'type': 'Fast Food Restaurant'},\n",
        "                 '4c247550b012b713167d0893': {\n",
        "                     'country_code': 'HR',\n",
        "                     'lat': 45.347616,\n",
        "                     'long': 14.300922,\n",
        "                     'type': 'Pool'},\n",
        "                 '4fa3c7ade4b0f90206220bbf': {\n",
        "                     'country_code': 'KR',\n",
        "                     'lat': 37.545866,\n",
        "                     'long': 127.122266,\n",
        "                     'type': 'Bike Shop'}}"
      ]
    },
    {
      "cell_type": "markdown",
      "id": "b12c6a7f",
      "metadata": {
        "nbgrader": {
          "grade": false,
          "locked": true,
          "solution": false
        },
        "tags": [
          "demo_output_md"
        ],
        "id": "b12c6a7f"
      },
      "source": [
        "<!-- Expected demo output text block -->\n",
        "If `demo_pois_ex0` (above) is the input, then `find_food_and_drink_types(demo_pois_ex0)` should produce:\n",
        "```\n",
        "{'Fast Food Restaurant'}\n",
        "```\n",
        "<!-- Include any shout outs here -->"
      ]
    },
    {
      "cell_type": "code",
      "execution_count": null,
      "id": "ab0c4faa",
      "metadata": {
        "tags": [
          "exercise_solution"
        ],
        "id": "ab0c4faa"
      },
      "outputs": [],
      "source": [
        "### Exercise 0 solution\n",
        "def find_food_and_drink_types(pois):\n",
        "    '''\n",
        "    INPUT:\n",
        "    pois is a dictionary of dictionaries where the key is the POI's ID and the value is a dictionary of POI attributes. The attribute we care about is called 'type'\n",
        "\n",
        "    GOAL:\n",
        "    Return a Python Set containing types whose words matched the target list. The case of the returned types should match the originals exactly, including case.\n",
        "\n",
        "    STRATEGY:\n",
        "    1. Store all of the target keywords in a list (call this target_words)\n",
        "    2. Create an empty set to hold the types whose words included the target words (call this food_and_drink_types)\n",
        "    3. Iterate over pois dictionary\n",
        "    4. Get the value of the poi (aka the nested dictionary of attributes). Let's call this poi_nested_dict\n",
        "    5. Grab the value of 'type' from the nested dictionary of attributes (let's call this type_words)\n",
        "    6. Split the type string into a list based using whitespace as a delimiter (let's call this type_words_list)\n",
        "    7. For each word in the split list, check to see if the lowercase of that word is found in the target_words list\n",
        "    8. If it is found, add the type to the set 'food_and_drink_types' (consider breaking out of inner for loop if match is found - for speed purposes)\n",
        "    9. After all iterations have completed, return the set 'food_and_drink_types'\n",
        "    '''\n",
        "\n",
        "    # SOLUTION:\n",
        "    target_words = ['bar', 'bars', 'beer', 'brewery', 'cafe', 'cafes', 'coffee', 'cocktail', 'cocktails', 'drink', 'drinks', 'food', 'restaurant', 'restaurants', 'sake', 'tea', 'wine', 'whisky', 'whiskey']\n",
        "    food_and_drink_types = set()\n",
        "\n",
        "    for poi in pois:\n",
        "      poi_nested_dict = pois[poi]\n",
        "      type_words = poi_nested_dict['type']\n",
        "      type_words_list = type_words.split()\n",
        "\n",
        "      for word in type_words_list:\n",
        "        if word.lower() in target_words:\n",
        "          food_and_drink_types.add(type_words)\n",
        "          break\n",
        "\n",
        "    return food_and_drink_types\n",
        "\n",
        "\n",
        "### demo function call\n",
        "find_food_and_drink_types(demo_pois_ex0)"
      ]
    },
    {
      "cell_type": "markdown",
      "id": "a9c71296",
      "metadata": {
        "nbgrader": {
          "grade": false,
          "locked": true,
          "solution": false
        },
        "tags": [
          "test_data_boilerplate"
        ],
        "id": "a9c71296"
      },
      "source": [
        "<!-- Test Cell Boilerplate -->\n",
        "The cell below will test your solution for Exercise 0. The testing variables will be available for debugging under the following names in a dictionary format.\n",
        "- `input_vars` - Input variables for your solution.\n",
        "- `original_input_vars` - Copy of input variables from prior to running your solution. These _should_ be the same as `input_vars` - otherwise the inputs were modified by your solution.\n",
        "- `returned_output_vars` - Outputs returned by your solution.\n",
        "- `true_output_vars` - The expected output. This _should_ \"match\" `returned_output_vars` based on the question requirements - otherwise, your solution is not returning the correct output."
      ]
    },
    {
      "cell_type": "code",
      "execution_count": null,
      "id": "7c0f33f1",
      "metadata": {
        "nbgrader": {
          "grade": true,
          "grade_id": "ex0",
          "locked": true,
          "points": "1",
          "solution": false
        },
        "tags": [],
        "id": "7c0f33f1"
      },
      "outputs": [],
      "source": [
        "### test_cell_ex0\n",
        "from tester_fw.testers import Tester\n",
        "\n",
        "conf = {\n",
        "    'case_file':'tc_0',\n",
        "    'func': find_food_and_drink_types, # replace this with the function defined above\n",
        "    'inputs':{ # input config dict. keys are parameter names\n",
        "        'pois':{\n",
        "            'dtype':'dict', # data type of param.\n",
        "            'check_modified':True,\n",
        "        }\n",
        "    },\n",
        "    'outputs':{\n",
        "        'output_0':{\n",
        "            'index':0,\n",
        "            'dtype':'set',\n",
        "            'check_dtype': True,\n",
        "            'check_col_dtypes': True, # Ignored if dtype is not df\n",
        "            'check_col_order': True, # Ignored if dtype is not df\n",
        "            'check_row_order': True, # Ignored if dtype is not df\n",
        "            'check_column_type': True, # Ignored if dtype is not df\n",
        "            'float_tolerance': 10 ** (-6)\n",
        "        }\n",
        "    }\n",
        "}\n",
        "tester = Tester(conf, key=b'1ZePXzAcTR7lcNpmx1HRK0lT3v-Ikrg8mZ3n-wVFTBo=', path='')  # path='resource/asnlib/publicdata/'\n",
        "for _ in range(70):\n",
        "    try:\n",
        "        tester.run_test()\n",
        "        (input_vars, original_input_vars, returned_output_vars, true_output_vars) = tester.get_test_vars()\n",
        "    except:\n",
        "        (input_vars, original_input_vars, returned_output_vars, true_output_vars) = tester.get_test_vars()\n",
        "        raise\n",
        "\n",
        "print('Passed! Please submit.')"
      ]
    },
    {
      "cell_type": "markdown",
      "id": "e0a7875e",
      "metadata": {
        "nbgrader": {
          "grade": false,
          "locked": true,
          "solution": false
        },
        "id": "e0a7875e"
      },
      "source": [
        "**RUN ME: Food and drink types:** If you had a correct solution, you could use it to determine the food and drink types. We have precomputed this list for you, and here are the results. **Run this cell whether or not you completed Exercise 0.**"
      ]
    },
    {
      "cell_type": "code",
      "execution_count": null,
      "id": "2c06b6de",
      "metadata": {
        "nbgrader": {
          "grade": false,
          "locked": true,
          "solution": false
        },
        "id": "2c06b6de"
      },
      "outputs": [],
      "source": [
        "food_and_drink_types = load_database('food_and_drink_types.pickle')\n",
        "print(f\"\\nThere are {len(food_and_drink_types):,} types that match the food and drink keywords. They are:\")\n",
        "print(food_and_drink_types)"
      ]
    },
    {
      "cell_type": "markdown",
      "id": "199b1013",
      "metadata": {
        "nbgrader": {
          "grade": false,
          "locked": true,
          "solution": false
        },
        "id": "199b1013"
      },
      "source": [
        "# Part B: Cities #\n",
        "\n",
        "A second component of the dataset is a collection of **city records**. Run the following cell to load it."
      ]
    },
    {
      "cell_type": "code",
      "execution_count": null,
      "id": "0c7f58be",
      "metadata": {
        "nbgrader": {
          "grade": false,
          "locked": true,
          "solution": false
        },
        "id": "0c7f58be"
      },
      "outputs": [],
      "source": [
        "cities = load_database('cities.pickle',\n",
        "                       tag=\"cities\",\n",
        "                       sample = [\"Beijing, China\", \"Hartford, United States\", \"Stockholm, Sweden\"])"
      ]
    },
    {
      "cell_type": "markdown",
      "id": "ffe01395",
      "metadata": {
        "nbgrader": {
          "grade": false,
          "locked": true,
          "solution": false
        },
        "id": "ffe01395"
      },
      "source": [
        "Each city record is a key-value pair. The key is the **city name**, and the value is a dictionary of **city attributes**. The attributes are a two-letter country code, the latitude and longitude coordinates of the city center, and the type of city.\n",
        "\n",
        "In this example, there are three cities: `'Beijing, China'`, `'Hartford, United States'`, and `'Stockholm, Sweden'`."
      ]
    },
    {
      "cell_type": "markdown",
      "id": "552798e9",
      "metadata": {
        "nbgrader": {
          "grade": false,
          "locked": true,
          "solution": false
        },
        "id": "552798e9"
      },
      "source": [
        "**Important!** Both the POIs and the cities are dictionaries of dictionaries, where in both cases the _outer_ dictionary's key-value pairs define a record, and the inner dictionaries have the keys, `'country_code'`, `'lat'`, `'long'`, and `'type'`."
      ]
    },
    {
      "cell_type": "markdown",
      "id": "b0307add",
      "metadata": {
        "nbgrader": {
          "grade": false,
          "locked": true,
          "solution": false
        },
        "tags": [
          "exercise_text"
        ],
        "id": "b0307add"
      },
      "source": [
        "## Exercise 1 (**1** point): `get_common_ccs` ##\n",
        "\n",
        "Suppose we wish to determine which countries exist in **both** the POIs data **and** the cities data. Implement the function,\n",
        "```python\n",
        "def get_common_ccs(pois, cities):\n",
        "    ...\n",
        "```\n",
        "to complete this task.\n",
        "\n",
        "**Inputs:**\n",
        "- `pois`: POIs, stored in a Python dictionary of dictionaries, mapping POI IDs keys to attribute values (like earlier examples)\n",
        "- `cities`: City records, stored in a Python dictionary of dictionaries, mapping city names to attribute values (like earlier examples)\n",
        "\n",
        "You may assume that the inner dictionaries have the same four keys: `'country_code'`, `'lat'`, `'long'`, and `'type'`.\n",
        "\n",
        "**Task:** Identify all country codes that exist in `pois` and in `cities`.\n",
        "\n",
        "**Outputs:** Return a new **Python set** consisting of the common country codes."
      ]
    },
    {
      "cell_type": "code",
      "execution_count": null,
      "id": "5d4b978d",
      "metadata": {
        "nbgrader": {
          "grade": false,
          "locked": true,
          "solution": false
        },
        "tags": [
          "demo_data"
        ],
        "id": "5d4b978d"
      },
      "outputs": [],
      "source": [
        "### DEMO INPUTS ###\n",
        "demo_pois_ex1 = \\\n",
        "    {'abc': {'country_code': 'US', 'lat': -5.2, 'long': 2.0, 'type': 'Restaurant'},\n",
        "     'def': {'country_code': 'US', 'lat': -2.3, 'long': 6.8, 'type': 'Golf Course'},\n",
        "     'ghi': {'country_code': 'PL', 'lat': 1.0, 'long': 6.5, 'type': 'Apartment'},\n",
        "     'jkl': {'country_code': 'VN', 'lat': 11.0, 'long': 1.5, 'type': 'Post Office'}}\n",
        "\n",
        "demo_cities_ex1 = \\\n",
        "    {'Seattle, United States': {'country_code': 'US', 'lat': -5.0, 'long': 3.0, 'type': 'Other'},\n",
        "     'Richmond, United States': {'country_code': 'US', 'lat': -2.0, 'long': 7.0, 'type': 'Other'},\n",
        "     'Hanoi, Vietnam': {'country_code': 'VN', 'lat': 10.0, 'long': 2.0, 'type': 'National and provincial capital'},\n",
        "     'Curitiba, Brazil': {'country_code': 'BR', 'lat': 0.0, 'long': 6.0, 'type': 'Provincial capital'}}"
      ]
    },
    {
      "cell_type": "markdown",
      "id": "6d3c9e48",
      "metadata": {
        "nbgrader": {
          "grade": false,
          "locked": true,
          "solution": false
        },
        "tags": [
          "demo_output_md"
        ],
        "id": "6d3c9e48"
      },
      "source": [
        "<!-- Expected demo output text block -->\n",
        "When a correct implementation runs on the demo inputs, it should return\n",
        "```\n",
        "{'US', 'VN'}\n",
        "```\n",
        "<!-- Include any shout outs here -->\n",
        "The POI `'PL'` does **not** appear in the output since it exists in `pois` but **not** in `cities`."
      ]
    },
    {
      "cell_type": "code",
      "execution_count": null,
      "id": "a40afc54",
      "metadata": {
        "tags": [
          "exercise_solution"
        ],
        "id": "a40afc54"
      },
      "outputs": [],
      "source": [
        "### Exercise 1 solution\n",
        "def get_common_ccs(pois, cities):\n",
        "   '''\n",
        "   INPUT:\n",
        "   We are given 2 dictionaries of dictionaries as input: pois and cities.\n",
        "   The 'country_code' attribute within the nested dictionary is all we really care about in this exercise.\n",
        "\n",
        "   GOAL:\n",
        "   Return a Set of all country codes that exist within both the pois and cities.\n",
        "\n",
        "   STRATEGY:\n",
        "   1. Create an empty set to hold our shared country codes between pois and cities. Let's call this 'shared_country_codes'.\n",
        "   2. Create an empty set to hold our pois country codes. Let's call this 'pois_country_codes'.\n",
        "   3. Create an empty set to hold our cities country codes. Let's call this 'cities_country_codes'.\n",
        "\n",
        "   4. Iterate over 'pois' dictionary of dictionaries.\n",
        "   5. Grab the country code from the nested dictionary.\n",
        "   6. Add this country code to our set 'pois_country_codes'\n",
        "\n",
        "   7. Iterate over the 'cities' dictionary of dictionaries.\n",
        "   8. Grab the country code from the nested dictionary.\n",
        "   9. Add this country code to our set 'cities_country_codes'.\n",
        "\n",
        "   10. Find all shared country codes in 'pois_country_codes' and 'cities_country_codes'. Assign this to our variable 'shared_country_codes'\n",
        "   11. Return 'shared_country_codes'\n",
        "   '''\n",
        "\n",
        "   # SOLUTION:\n",
        "   shared_country_codes = set()\n",
        "   pois_country_codes = set()\n",
        "   cities_country_codes = set()\n",
        "\n",
        "   for poi in pois:\n",
        "      poi_nested_dict = pois[poi]\n",
        "      pois_country_codes.add(poi_nested_dict['country_code'])\n",
        "\n",
        "   for city in cities:\n",
        "      city_nested_dict = cities[city]\n",
        "      cities_country_codes.add(city_nested_dict['country_code'])\n",
        "\n",
        "   shared_country_codes = pois_country_codes.intersection(cities_country_codes)\n",
        "   return shared_country_codes\n",
        "\n",
        "\n",
        "### demo function call\n",
        "get_common_ccs(demo_pois_ex1, demo_cities_ex1)"
      ]
    },
    {
      "cell_type": "markdown",
      "id": "4fdf5967",
      "metadata": {
        "nbgrader": {
          "grade": false,
          "locked": true,
          "solution": false
        },
        "tags": [
          "test_data_boilerplate"
        ],
        "id": "4fdf5967"
      },
      "source": [
        "<!-- Test Cell Boilerplate -->\n",
        "The cell below will test your solution for Exercise 1. The testing variables will be available for debugging under the following names in a dictionary format.\n",
        "- `input_vars` - Input variables for your solution.\n",
        "- `original_input_vars` - Copy of input variables from prior to running your solution. These _should_ be the same as `input_vars` - otherwise the inputs were modified by your solution.\n",
        "- `returned_output_vars` - Outputs returned by your solution.\n",
        "- `true_output_vars` - The expected output. This _should_ \"match\" `returned_output_vars` based on the question requirements - otherwise, your solution is not returning the correct output."
      ]
    },
    {
      "cell_type": "code",
      "execution_count": null,
      "id": "d5e50e16",
      "metadata": {
        "nbgrader": {
          "grade": true,
          "grade_id": "ex1",
          "locked": true,
          "points": "1",
          "solution": false
        },
        "tags": [],
        "id": "d5e50e16"
      },
      "outputs": [],
      "source": [
        "### test_cell_ex1\n",
        "\n",
        "from tester_fw.testers import Tester\n",
        "\n",
        "conf = {\n",
        "    'case_file':'tc_1',\n",
        "    'func': get_common_ccs, # replace this with the function defined above\n",
        "    'inputs':{ # input config dict. keys are parameter names\n",
        "        'pois':{\n",
        "            'dtype':'dict', # data type of param.\n",
        "            'check_modified':True,\n",
        "        },\n",
        "        'cities':{\n",
        "            'dtype':'dict',\n",
        "            'check_modified':True,\n",
        "        },\n",
        "    },\n",
        "    'outputs':{\n",
        "        'output_0':{\n",
        "            'index':0,\n",
        "            'dtype':'set',\n",
        "            'check_dtype': True,\n",
        "            'check_col_dtypes': True, # Ignored if dtype is not df\n",
        "            'check_col_order': True, # Ignored if dtype is not df\n",
        "            'check_row_order': True, # Ignored if dtype is not df\n",
        "            'check_column_type': True, # Ignored if dtype is not df\n",
        "            'float_tolerance': 10 ** (-6)\n",
        "        }\n",
        "    }\n",
        "}\n",
        "tester = Tester(conf, key=b'1ZePXzAcTR7lcNpmx1HRK0lT3v-Ikrg8mZ3n-wVFTBo=', path='')  # path='resource/asnlib/publicdata/'\n",
        "for _ in range(70):\n",
        "    try:\n",
        "        tester.run_test()\n",
        "        (input_vars, original_input_vars, returned_output_vars, true_output_vars) = tester.get_test_vars()\n",
        "    except:\n",
        "        (input_vars, original_input_vars, returned_output_vars, true_output_vars) = tester.get_test_vars()\n",
        "        raise\n",
        "\n",
        "print('Passed! Please submit.')"
      ]
    },
    {
      "cell_type": "markdown",
      "id": "3b57feb8",
      "metadata": {
        "nbgrader": {
          "grade": false,
          "locked": true,
          "solution": false
        },
        "id": "3b57feb8"
      },
      "source": [
        "# Part E: Connections #\n",
        "\n",
        "The last part of the dataset is the collection of **follower connections**. Run the cell below to load these data:"
      ]
    },
    {
      "cell_type": "code",
      "execution_count": null,
      "id": "50b60336",
      "metadata": {
        "nbgrader": {
          "grade": false,
          "locked": true,
          "solution": false
        },
        "id": "50b60336"
      },
      "outputs": [],
      "source": [
        "connections = load_database('connections.pickle')\n",
        "print(f\"\\nThere are {len(connections):,} connections (nonsymmetric).\")\n",
        "print(f\"For instance, here are user 54's connections:\")\n",
        "[x for x in connections if x[0] == 54]"
      ]
    },
    {
      "cell_type": "markdown",
      "id": "38505cc5",
      "metadata": {
        "nbgrader": {
          "grade": false,
          "locked": true,
          "solution": false
        },
        "id": "38505cc5"
      },
      "source": [
        "The connections are stored as a Python list of pairs of user IDs. The example above shows people that user 54 is connected to on some social media site.\n",
        "\n",
        "**Important caveat:** The connections are stored nonsymmetrically. That is, while the pair `(54, 528)` appears, user `54` happens to not appear in the connections list of `528`:"
      ]
    },
    {
      "cell_type": "code",
      "execution_count": null,
      "id": "9d23a531",
      "metadata": {
        "nbgrader": {
          "grade": false,
          "locked": true,
          "solution": false
        },
        "id": "9d23a531"
      },
      "outputs": [],
      "source": [
        "[x for x in connections if x[0] == 528]"
      ]
    },
    {
      "cell_type": "markdown",
      "id": "7ace6758",
      "metadata": {
        "nbgrader": {
          "grade": false,
          "locked": true,
          "solution": false
        },
        "id": "7ace6758"
      },
      "source": [
        "This choice was made by the people who generated the data to save space. However, for our analysis, we will assume that if a pair `(a, b)` exists, it implies that **both** `a` is connected to `b` **and** `b` is connected to `a`."
      ]
    },
    {
      "cell_type": "markdown",
      "id": "419cc7b1",
      "metadata": {
        "nbgrader": {
          "grade": false,
          "locked": true,
          "solution": false
        },
        "tags": [
          "exercise_text"
        ],
        "id": "419cc7b1"
      },
      "source": [
        "## Exercise 5 (**1** point): `get_active_users`\n",
        "\n",
        "Let's define an **active user** to be one who has _both_ connections _and_ check-in visits. Implement a function,\n",
        "```python\n",
        "def get_active_users(connections, checkins):\n",
        "    ...\n",
        "```\n",
        "to find and return all active users.\n",
        "\n",
        "**Inputs:**\n",
        "- `connections`: A Python list of pairs of user IDs (integers).\n",
        "- `checkins`: Check-in records, stored as a dictionary of lists of dictionaries (mapping user IDs to lists of visits; recall Part C, Exercise 3 or Part D, Exercise 4).\n",
        "\n",
        "**Task:** Determine which users have both connections (meaning they appear in the `connections` list) **and** check-ins (meaning they have at least one check-in visit).\n",
        "\n",
        "**Output:** Return a Python set of all active users. If there are no active users, this function should return an empty set.\n",
        "\n",
        "**Notes and hints:** Assume relationships are symmetric. That is, we say an active user `x` \"has connections\" if it appears in _either_ a pair `(x, y)` _or_ a pair `(y, x)`."
      ]
    },
    {
      "cell_type": "code",
      "execution_count": null,
      "id": "29c2d5e3",
      "metadata": {
        "nbgrader": {
          "grade": false,
          "locked": true,
          "solution": false
        },
        "tags": [
          "demo_data"
        ],
        "id": "29c2d5e3"
      },
      "outputs": [],
      "source": [
        "### Define demo inputs\n",
        "demo_connections_ex5 = \\\n",
        "[ (72049, 99545),\n",
        "  (99545, 822927),\n",
        "  (470311, 665256),\n",
        "  (470311, 846214),\n",
        "  (470311, 894292),\n",
        "  (470311, 1045011),\n",
        "  (502736, 921752),\n",
        "  (668626, 921752),\n",
        "  (686743, 921752),\n",
        "  (921752, 944779),\n",
        "  (921752, 972956),\n",
        "  (921752, 1076615)]\n",
        "\n",
        "demo_checkins_ex5 = \\\n",
        "{ 99545: [ { 'date': 'Thu Aug 16 22:55:43 +0000 2012',\n",
        "             'poi': '4b6ef8a8f964a520f2d32ce3'},\n",
        "           { 'date': 'Tue Aug 14 23:46:30 +0000 2012',\n",
        "             'poi': '4c66a5b1e1da1b8daf6e9bc3'},\n",
        "           { 'date': 'Thu Aug 09 18:45:08 +0000 2012',\n",
        "             'poi': '4ce575825fce548110bf5baa'}],\n",
        "  470311: [ { 'date': 'Sun Apr 08 08:53:52 +0000 2012',\n",
        "              'poi': '4cddd943db1254815fee2cce'},\n",
        "            { 'date': 'Sun Jun 03 00:01:22 +0000 2012',\n",
        "              'poi': '4cddd943db1254815fee2cce'}],\n",
        "  921752: [ { 'date': 'Sun Aug 19 13:35:29 +0000 2012',\n",
        "              'poi': '4b58539af964a520ea5228e3'},\n",
        "            { 'date': 'Sat May 05 10:24:08 +0000 2012',\n",
        "              'poi': '4b55a124f964a520b2e927e3'},\n",
        "            { 'date': 'Mon Aug 06 03:42:48 +0000 2012',\n",
        "              'poi': '4ed2ff869adf25445a084c63'},\n",
        "            { 'date': 'Thu Jul 05 11:01:38 +0000 2012',\n",
        "              'poi': '4b3dd6ddf964a520089725e3'}]}"
      ]
    },
    {
      "cell_type": "markdown",
      "id": "fca7e98e",
      "metadata": {
        "nbgrader": {
          "grade": false,
          "locked": true,
          "solution": false
        },
        "tags": [
          "demo_output_md"
        ],
        "id": "fca7e98e"
      },
      "source": [
        "<!-- Expected demo output text block -->\n",
        "Given the preceding input, a correct solution would return the set of active users,\n",
        "```\n",
        "{921752, 99545, 470311}\n",
        "```\n",
        "<!-- Include any shout outs here -->\n",
        "These are the only user IDs in this input that have _both_ visits _and_ connections."
      ]
    },
    {
      "cell_type": "code",
      "execution_count": null,
      "id": "9f950b2c",
      "metadata": {
        "tags": [
          "exercise_solution"
        ],
        "id": "9f950b2c"
      },
      "outputs": [],
      "source": [
        "### Exercise 5 solution\n",
        "def get_active_users(connections, checkins):\n",
        "    '''\n",
        "    INPUT:\n",
        "    We are given 2 inputs:\n",
        "    connections: A Python list of pairs of user IDs (integers)\n",
        "    checkins: Check-in records, stored as a dictionary of lists of dictionaries\n",
        "\n",
        "    GOAL:\n",
        "    Determine which users have both connections (meaning they appear in the connections list) and check-ins (meaning they have at least one check-in visit).\n",
        "    Return a Python set of all active users. If there are no active users, this function should return an empty set.\n",
        "\n",
        "    STRATEGY:\n",
        "    1. Create an empty set to hold all active users. Let's call this 'active_users'.\n",
        "    2. Create an empty set to hold user ids in 'connections'. Let's call this 'connections_users'.\n",
        "    3. Create an emtpy set to hold user ids in 'checkins'. Let's call this 'checkins_users'.\n",
        "\n",
        "    4. Iterate over each pair of user ids 'connections'\n",
        "    5. Add each of the two user ids to 'connections_users'\n",
        "\n",
        "    6. Iterate over user id keys in 'checkins'\n",
        "    7. Add each user id to 'checkins_users'\n",
        "\n",
        "    8. Find intersection of 'connections_users' and 'checkins_users'. Assign this to our variable 'active_users'.\n",
        "    9. Return 'active_users'\n",
        "    '''\n",
        "\n",
        "    # SOLUTION:\n",
        "    active_users = set()\n",
        "    connections_users = set()\n",
        "    checkins_users = set()\n",
        "\n",
        "    for pair in connections:\n",
        "      connections_users.add(pair[0])\n",
        "      connections_users.add(pair[1])\n",
        "\n",
        "    for user_id in checkins:\n",
        "      checkins_users.add(user_id)\n",
        "\n",
        "    active_users = connections_users.intersection(checkins_users)\n",
        "    return active_users\n",
        "\n",
        "\n",
        "### demo function call\n",
        "get_active_users(demo_connections_ex5, demo_checkins_ex5)"
      ]
    },
    {
      "cell_type": "markdown",
      "id": "9bd0333f",
      "metadata": {
        "nbgrader": {
          "grade": false,
          "locked": true,
          "solution": false
        },
        "tags": [
          "test_data_boilerplate"
        ],
        "id": "9bd0333f"
      },
      "source": [
        "<!-- Test Cell Boilerplate -->\n",
        "The cell below will test your solution for Exercise 5. The testing variables will be available for debugging under the following names in a dictionary format.\n",
        "- `input_vars` - Input variables for your solution.\n",
        "- `original_input_vars` - Copy of input variables from prior to running your solution. These _should_ be the same as `input_vars` - otherwise the inputs were modified by your solution.\n",
        "- `returned_output_vars` - Outputs returned by your solution.\n",
        "- `true_output_vars` - The expected output. This _should_ \"match\" `returned_output_vars` based on the question requirements - otherwise, your solution is not returning the correct output."
      ]
    },
    {
      "cell_type": "code",
      "execution_count": null,
      "id": "c8903789",
      "metadata": {
        "nbgrader": {
          "grade": true,
          "grade_id": "ex5",
          "locked": true,
          "points": "1",
          "solution": false
        },
        "scrolled": true,
        "tags": [],
        "id": "c8903789"
      },
      "outputs": [],
      "source": [
        "### test_cell_ex5\n",
        "\n",
        "from tester_fw.testers import Tester\n",
        "\n",
        "conf = {\n",
        "    'case_file':'tc_5',\n",
        "    'func': get_active_users, # replace this with the function defined above\n",
        "    'inputs':{ # input config dict. keys are parameter names\n",
        "        'connections':{\n",
        "            'dtype':'list', # data type of param.\n",
        "            'check_modified':True,\n",
        "        },\n",
        "        'checkins':{\n",
        "            'dtype':'dict', # data type of param.\n",
        "            'check_modified':True,\n",
        "        }\n",
        "    },\n",
        "    'outputs':{\n",
        "        'output_0':{\n",
        "            'index':0,\n",
        "            'dtype':'set',\n",
        "            'check_dtype': True,\n",
        "            'check_col_dtypes': True, # Ignored if dtype is not df\n",
        "            'check_col_order': True, # Ignored if dtype is not df\n",
        "            'check_row_order': True, # Ignored if dtype is not df\n",
        "            'check_column_type': True, # Ignored if dtype is not df\n",
        "            'float_tolerance': 10 ** (-6)\n",
        "        }\n",
        "    }\n",
        "}\n",
        "tester = Tester(conf, key=b'1ZePXzAcTR7lcNpmx1HRK0lT3v-Ikrg8mZ3n-wVFTBo=', path='') # path='resource/asnlib/publicdata/'\n",
        "for _ in range(70):\n",
        "    try:\n",
        "        tester.run_test()\n",
        "        (input_vars, original_input_vars, returned_output_vars, true_output_vars) = tester.get_test_vars()\n",
        "    except:\n",
        "        (input_vars, original_input_vars, returned_output_vars, true_output_vars) = tester.get_test_vars()\n",
        "        raise\n",
        "\n",
        "print('Passed! Please submit.')"
      ]
    },
    {
      "cell_type": "markdown",
      "id": "52fd722d",
      "metadata": {
        "nbgrader": {
          "grade": false,
          "locked": true,
          "solution": false
        },
        "id": "52fd722d"
      },
      "source": [
        "**RUN ME: Active users:** If you had a correct solution, you could use it to find all active users in the full dataset. We have done just that.\n",
        "\n",
        "**Run this cell whether or not you completed Exercise 5**. It will create a Python set of active users' IDs called `active_users`."
      ]
    },
    {
      "cell_type": "code",
      "execution_count": null,
      "id": "843055ae",
      "metadata": {
        "nbgrader": {
          "grade": false,
          "locked": true,
          "solution": false
        },
        "id": "843055ae"
      },
      "outputs": [],
      "source": [
        "active_users = load_database('active_users.pickle')\n",
        "print(f\"\\nThere are {len(active_users):,} active users.\")\n",
        "print(\"Here are a few of them:\", *list(active_users)[:5], \"...\")"
      ]
    },
    {
      "cell_type": "markdown",
      "id": "2d6f3a2d",
      "metadata": {
        "nbgrader": {
          "grade": false,
          "locked": true,
          "solution": false
        },
        "tags": [
          "exercise_text"
        ],
        "id": "2d6f3a2d"
      },
      "source": [
        "## Exercise 6 (**1** point): `form_connection_vectors` ##\n",
        "\n",
        "Given some user, `a`, the **connection vector** of `a` is a Python set consisting of all other users connected to `a`. Implement the function,\n",
        "```python\n",
        "def form_connection_vectors(connections):\n",
        "    ...\n",
        "```\n",
        "to construct connection vectors for all users.\n",
        "\n",
        "**Input:**\n",
        "- `connections`: A Python list of user ID-pairs, `(a, b)`, signifying a mutual connection between user `a` and user `b`. By \"mutual connection,\" we mean that `a` is connected to `b` **and** `b` is connected to `a`. Therefore, if there is a pair `(a, b)`, then `b` should be in the connection vector of `a` and `a` should be in the connection vector of `b`.\n",
        "\n",
        "**Task:** Sweep through the connections and construct connection vectors for all users.\n",
        "\n",
        "**Outputs:** Return a Python dictionary of Python sets. The dictionary keys are user IDs; their values are the connection vectors (Python sets)."
      ]
    },
    {
      "cell_type": "code",
      "execution_count": null,
      "id": "ade23834",
      "metadata": {
        "nbgrader": {
          "grade": false,
          "locked": true,
          "solution": false
        },
        "tags": [
          "demo_data"
        ],
        "id": "ade23834"
      },
      "outputs": [],
      "source": [
        "### Define demo inputs\n",
        "demo_connections_ex6 = [(2, 10), (6, 7), (7, 0), (7, 9), (11, 10), (12, 10), (13, 10)]"
      ]
    },
    {
      "cell_type": "markdown",
      "id": "343536f4",
      "metadata": {
        "nbgrader": {
          "grade": false,
          "locked": true,
          "solution": false
        },
        "tags": [
          "demo_output_md"
        ],
        "id": "343536f4"
      },
      "source": [
        "<!-- Expected demo output text block -->\n",
        "Suppose the input connections are given by `demo_connections_ex6`. Then a correct solution to this problem would produce the following output:\n",
        "```\n",
        "{ 0: {7},\n",
        "  2: {10},\n",
        "  6: {7},\n",
        "  7: {0, 9, 6},\n",
        "  9: {7},\n",
        "  10: {2, 11, 12, 13},\n",
        "  11: {10},\n",
        "  12: {10},\n",
        "  13: {10}}\n",
        "```\n",
        "<!-- Include any shout outs here -->\n",
        "Observe that `0` only appears in the pair `(7, 0)`; therefore, the connection vector of `0` is the singleton set `{7}`. By contrast, `7` appears in the pairs `(6, 7)`, `(7, 0)`, and `(7, 9)`; therefore, the connection vector of `7` is the set `{0, 6, 9}`. (Recall that sets are equal regardless of element order.)"
      ]
    },
    {
      "cell_type": "code",
      "execution_count": null,
      "id": "802d37e2",
      "metadata": {
        "tags": [
          "exercise_solution"
        ],
        "id": "802d37e2"
      },
      "outputs": [],
      "source": [
        "### Exercise 6 solution\n",
        "def form_connection_vectors(connections):\n",
        "    '''\n",
        "    INPUT:\n",
        "    connections: A Python list of user ID-pairs, (a, b), signifying a mutual connection between user a and user b.\n",
        "    By \"mutual connection,\" we mean that a is connected to b and b is connected to a.\n",
        "    Therefore, if there is a pair (a, b), then b should be in the connection vector of a and a should be in the connection vector of b.\n",
        "\n",
        "    GOAL:\n",
        "    Sweep through the connections and construct connection vectors for all users.\n",
        "    Return a Python dictionary of Python sets. The dictionary keys are user IDs; their values are the connection vectors (Python sets).\n",
        "\n",
        "    STRATEGY:\n",
        "    1. Create a default dictionary to hold our user ids and the set of their connection vectors. So it will look like: {user1: {set1}, user2: {set2}, etc.. }.\n",
        "       Let's call this 'connection_vectors'.\n",
        "    2. Iterate over pairs in 'connections' list\n",
        "    3. For each pair, add both directions to 'connection_vectors' default dictionary. Example: pair is (123, 456). We add 456 to the set for the user_id key 123.\n",
        "       And we also add 123 to the set for user_id key 456. So we end up with: {123: {456}, 456: {123}}\n",
        "    4. Return 'connection_vectors'\n",
        "    '''\n",
        "\n",
        "    # SOLUTION:\n",
        "    from collections import defaultdict\n",
        "    connection_vectors = defaultdict(set)\n",
        "\n",
        "    for pair in connections:\n",
        "      connection_vectors[pair[0]].add(pair[1])\n",
        "      connection_vectors[pair[1]].add(pair[0])\n",
        "\n",
        "    return connection_vectors\n",
        "\n",
        "\n",
        "### demo function call\n",
        "form_connection_vectors(demo_connections_ex6)"
      ]
    },
    {
      "cell_type": "markdown",
      "id": "f65848e3",
      "metadata": {
        "nbgrader": {
          "grade": false,
          "locked": true,
          "solution": false
        },
        "tags": [
          "test_data_boilerplate"
        ],
        "id": "f65848e3"
      },
      "source": [
        "<!-- Test Cell Boilerplate -->\n",
        "The cell below will test your solution for Exercise 6. The testing variables will be available for debugging under the following names in a dictionary format.\n",
        "- `input_vars` - Input variables for your solution.\n",
        "- `original_input_vars` - Copy of input variables from prior to running your solution. These _should_ be the same as `input_vars` - otherwise the inputs were modified by your solution.\n",
        "- `returned_output_vars` - Outputs returned by your solution.\n",
        "- `true_output_vars` - The expected output. This _should_ \"match\" `returned_output_vars` based on the question requirements - otherwise, your solution is not returning the correct output."
      ]
    },
    {
      "cell_type": "code",
      "execution_count": null,
      "id": "ff75d961",
      "metadata": {
        "nbgrader": {
          "grade": true,
          "grade_id": "ex6",
          "locked": true,
          "points": "1",
          "solution": false
        },
        "tags": [],
        "id": "ff75d961"
      },
      "outputs": [],
      "source": [
        "### test_cell_ex6\n",
        "\n",
        "from tester_fw.testers import Tester\n",
        "\n",
        "conf = {\n",
        "    'case_file':'tc_6',\n",
        "    'func': form_connection_vectors, # replace this with the function defined above\n",
        "    'inputs':{ # input config dict. keys are parameter names\n",
        "        'connections':{\n",
        "            'dtype':'list', # data type of param.\n",
        "            'check_modified':True,\n",
        "        }\n",
        "    },\n",
        "    'outputs':{\n",
        "        'output_0':{\n",
        "            'index':0,\n",
        "            'dtype':'dict',\n",
        "            'check_dtype': True,\n",
        "            'check_col_dtypes': True, # Ignored if dtype is not df\n",
        "            'check_col_order': True, # Ignored if dtype is not df\n",
        "            'check_row_order': True, # Ignored if dtype is not df\n",
        "            'check_column_type': True, # Ignored if dtype is not df\n",
        "            'float_tolerance': 10 ** (-6)\n",
        "        }\n",
        "    }\n",
        "}\n",
        "tester = Tester(conf, key=b'1ZePXzAcTR7lcNpmx1HRK0lT3v-Ikrg8mZ3n-wVFTBo=', path='') # path='resource/asnlib/publicdata/'\n",
        "for _ in range(70):\n",
        "    try:\n",
        "        tester.run_test()\n",
        "        (input_vars, original_input_vars, returned_output_vars, true_output_vars) = tester.get_test_vars()\n",
        "    except:\n",
        "        (input_vars, original_input_vars, returned_output_vars, true_output_vars) = tester.get_test_vars()\n",
        "        raise\n",
        "\n",
        "\n",
        "print('Passed! Please submit.')"
      ]
    }
  ],
  "metadata": {
    "interpreter": {
      "hash": "f2b38b6e01547e8f771d473ea2b8718fd0728eea782e4c924ed8783f739d4a6c"
    },
    "kernelspec": {
      "display_name": "Python 3 (ipykernel)",
      "language": "python",
      "name": "python3"
    },
    "language_info": {
      "codemirror_mode": {
        "name": "ipython",
        "version": 3
      },
      "file_extension": ".py",
      "mimetype": "text/x-python",
      "name": "python",
      "nbconvert_exporter": "python",
      "pygments_lexer": "ipython3",
      "version": "3.9.13"
    },
    "toc": {
      "base_numbering": 1,
      "nav_menu": {},
      "number_sections": true,
      "sideBar": true,
      "skip_h1_title": false,
      "title_cell": "Table of Contents",
      "title_sidebar": "Contents",
      "toc_cell": false,
      "toc_position": {
        "height": "790px",
        "left": "241px",
        "top": "67.1333px",
        "width": "384px"
      },
      "toc_section_display": true,
      "toc_window_display": true
    },
    "colab": {
      "provenance": [],
      "include_colab_link": true
    }
  },
  "nbformat": 4,
  "nbformat_minor": 5
}