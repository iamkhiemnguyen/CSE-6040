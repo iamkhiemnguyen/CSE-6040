{
  "cells": [
    {
      "cell_type": "markdown",
      "metadata": {
        "id": "view-in-github",
        "colab_type": "text"
      },
      "source": [
        "<a href=\"https://colab.research.google.com/github/iamkhiemnguyen/CSE-6040/blob/main/Module%200/Session%2010/solutions_Debugathon.ipynb\" target=\"_parent\"><img src=\"https://colab.research.google.com/assets/colab-badge.svg\" alt=\"Open In Colab\"/></a>"
      ]
    },
    {
      "cell_type": "markdown",
      "id": "f0157638",
      "metadata": {
        "id": "f0157638"
      },
      "source": [
        "# Debug-a-thon:\n",
        "## From MT1 Practice Problem 16\n"
      ]
    },
    {
      "cell_type": "markdown",
      "id": "04a63b95",
      "metadata": {
        "id": "04a63b95"
      },
      "source": [
        "One skill we hope you have been developing is debugging. Errors are bound to happen, but good programmers can spot and rectify them. This notebook is all about pinpointing errors.\n",
        "\n",
        "In the exercises below, we were careless coders and every program fragment has errors. Your task is to understand each problem, identify the error, and fix them. Good luck!\n"
      ]
    },
    {
      "cell_type": "markdown",
      "id": "16579758",
      "metadata": {
        "id": "16579758"
      },
      "source": [
        "**Exercise 1** (2 points). Suppose we wish to count how many times different words occur in a string.\n",
        "\n",
        "The cell below defines a function, `count_words(text)`, which has the following _intended_ behavior.\n",
        "\n",
        "1. The input argument is a string of text named `text`.\n",
        "2. The input contains a sequence of zero or more words. A word is a sequence of alphabetic characters, and two words will be separated by one or more contiguous whitespace characters.\n",
        "3. The letters within a word may be uppercase or lowercase.\n",
        "4. The function should return a dictionary. Each key should be a word from `text` **in all lowercase letters**. The corresponding value is the number of times that word occurred. For example,\n",
        "\n",
        "```python\n",
        "answer('Amazing amazing IS this amazing beautiful   world')\n",
        "```\n",
        "\n",
        "should return\n",
        "\n",
        "```python\n",
        "{'amazing': 3, 'is': 1, 'this': 1, 'beautiful': 1, 'world': 1}\n",
        "```\n",
        "\n",
        "Unfortunately, the implementation of `count_words()` given below is buggy. It sometimes causes errors and may produce the incorrect output. Try to understand what is wrong and rectify the problem by modifying the code accordingly. If it would be helpful, we've provided an extra cell you can use for debugging."
      ]
    },
    {
      "cell_type": "code",
      "execution_count": null,
      "id": "047d6fde",
      "metadata": {
        "id": "047d6fde"
      },
      "outputs": [],
      "source": [
        "# Modify the function as you deem fit!\n",
        "\n",
        "def count_words(text):\n",
        "    '''\n",
        "    INPUT:\n",
        "    text is a string\n",
        "\n",
        "    GOAL:\n",
        "    Return a dictionary with each word in all lowercase letters as the key.\n",
        "    The value is the number of times the word occurred.\n",
        "\n",
        "    STRATEGY:\n",
        "    1. Make the text string lowercase\n",
        "    2. Split text into a list of words using default delimiter\n",
        "    3. Create a default dictionary with int as the value\n",
        "    4. Iterate over the list of words and increase count value each time they occur\n",
        "    5. Return this default dictionary\n",
        "    '''\n",
        "\n",
        "    lower_text = text.lower()\n",
        "    list_words =  lower_text.split()\n",
        "\n",
        "    from collections import defaultdict\n",
        "    word_dictionary = defaultdict(int)\n",
        "    for word in list_words:\n",
        "        word_dictionary[word] += 1\n",
        "    return(word_dictionary)"
      ]
    },
    {
      "cell_type": "code",
      "execution_count": null,
      "id": "49c3b75c",
      "metadata": {
        "id": "49c3b75c",
        "outputId": "f32c4a69-b271-49b2-f3f7-6b3ea62fc0b6"
      },
      "outputs": [
        {
          "data": {
            "text/plain": [
              "defaultdict(int,\n",
              "            {'amazing': 3, 'is': 1, 'this': 1, 'beautiful': 1, 'world': 1})"
            ]
          },
          "execution_count": 2,
          "metadata": {},
          "output_type": "execute_result"
        }
      ],
      "source": [
        "## Additional cell for debugging\n",
        "\n",
        "debug_text = 'Amazing amazing IS this amazing beautiful   world'\n",
        "count_words(debug_text)"
      ]
    },
    {
      "cell_type": "code",
      "execution_count": null,
      "id": "d3168620",
      "metadata": {
        "id": "d3168620",
        "outputId": "75aee2ac-a83d-4fbc-bee0-58988347d1ee"
      },
      "outputs": [
        {
          "name": "stdout",
          "output_type": "stream",
          "text": [
            "\n",
            "(Passed!)\n"
          ]
        }
      ],
      "source": [
        "# Test cell: `exercise_1`\n",
        "\n",
        "def gen_text():\n",
        "    from random import randrange, choice, choices\n",
        "    from collections import defaultdict\n",
        "    alphabet = ''.join([chr(k) for k in range(ord('a'), ord('z')+1)])\n",
        "    def gen_word(max_len=10):\n",
        "        return ''.join(choices(alphabet, k=randrange(1, max_len+1)))\n",
        "    def gen_vocab(max_len=5):\n",
        "        return {gen_word(): 0 for _ in range(randrange(1, max_len+1))}\n",
        "    def randomize_case(w):\n",
        "        if len(w) == 1:\n",
        "            return choice(w + w.upper())\n",
        "        return ''.join([randomize_case(c) for c in w])\n",
        "    def gen_sep(max_len=5, min_len=1):\n",
        "        return ' ' * randrange(min_len, max_len+1)\n",
        "    def gen_sentence(vocab, max_len=20):\n",
        "        sentence = gen_sep(min_len=0)\n",
        "        for i in range(randrange(0, max_len)):\n",
        "            word_i = choice(list(vocab.keys()))\n",
        "            vocab[word_i] += 1\n",
        "            sentence += randomize_case(word_i) + gen_sep(randrange(1, 5))\n",
        "        if randrange(0, 2):\n",
        "            sentence.rstrip()\n",
        "        return sentence\n",
        "    def remove_zero_counts(vocab):\n",
        "        return {w: c for w, c in vocab.items() if c > 0}\n",
        "\n",
        "    vocab = gen_vocab()\n",
        "    sentence = gen_sentence(vocab)\n",
        "    vocab_soln = remove_zero_counts(vocab)\n",
        "    return sentence, vocab_soln\n",
        "\n",
        "for _ in range(10):\n",
        "    sentence, answer = gen_text()\n",
        "    your_answer = count_words(sentence)\n",
        "    assert your_answer == answer, f\"Your solution did not work on the following input:\\n'{sentence}'\\nYou produced: {your_answer}\"\n",
        "\n",
        "assert len(count_words('')) == 0\n",
        "assert len(count_words('     ')) == 0\n",
        "\n",
        "print(\"\\n(Passed!)\")"
      ]
    },
    {
      "cell_type": "markdown",
      "id": "59753876",
      "metadata": {
        "id": "59753876"
      },
      "source": [
        "**Exercise 2** (1 point for an \"exposed\" test)\n",
        "\n",
        "Consider a _modified_ Fibonacci sequence, which is defined by the recurrence,\n",
        "\n",
        "$$\n",
        "  t_{i} = \\left\\{\\begin{array}{cl}\n",
        "              a & i = 1 \\\\\n",
        "              b & i = 2 \\\\\n",
        "              t_{i-2} + (t_{i-1})^2 & i > 2\n",
        "          \\end{array}\\right.,\n",
        "$$\n",
        "\n",
        "where $a$ and $b$ are given constants.\n",
        "\n",
        "Suppose you want to write a function, `generate_numbers(a, b)`, that calculates the first seven (7) values of this sequence and returns them in order as a list, i.e., $\\left[ t_1=a, t_2=b, t_3, \\ldots, t_7 \\right]$. For example, if `a=0` and `b=1`, then you want\n",
        "\n",
        "```python\n",
        "    generate_numbers(0, 1) == [0, 1, 1, 2, 5, 27, 734]\n",
        "```\n",
        "\n",
        "Your friend has tried to implement `generate_numbers()` in the code cell below. However, it's not working. Your task in this exercise is to correct it.\n",
        "\n",
        "In particular, your corrected `generate_numbers(a, b)` should take as input:\n",
        "\n",
        "1. `a` = the value of the first number in the sequence\n",
        "2. `b` = the value of the second number in the sequence\n",
        "\n",
        "And it should return:\n",
        "\n",
        "1. A **list** of the first 7 numbers of that specific sequence. If `a` and `b` happen to be floating-point values, you should **round** each element of the returned list to 3 decimal places.\n",
        "\n",
        "**Note**: Depending on the starting values `a` and `b`, it's possible some computed $t_i$ may exceed the numerical range of floating-point values and Python might produce an overflow error. You do **NOT** need to handle that possibility in this function."
      ]
    },
    {
      "cell_type": "code",
      "execution_count": null,
      "id": "7868b9cf",
      "metadata": {
        "id": "7868b9cf",
        "outputId": "6da2ee32-affa-4cfb-9d20-c5c22425fe99"
      },
      "outputs": [
        {
          "data": {
            "text/plain": [
              "list"
            ]
          },
          "execution_count": 13,
          "metadata": {},
          "output_type": "execute_result"
        }
      ],
      "source": [
        "# You can modify any or all of the code in this cell,\n",
        "# but to pass, you must define a function\n",
        "# generate_numbers(a, b) that meets the specifications.\n",
        "\n",
        "'''\n",
        "INPUT:\n",
        "generate_numbers takes in two parameters a and b, that are each numbers\n",
        "\n",
        "GOAL:\n",
        "Compute the first 7 values of the modified fibonacci sequence for starting values a and b\n",
        "\n",
        "STRATEGY:\n",
        "1. Remove assignment of list = 7\n",
        "2. Create helper function fibonacci_gt to call recursively to compute the modified fibonacci sequence\n",
        "3. In generate_numbers function, create an empty list to hold our computed values\n",
        "4. Call fibonacci_gt 7 times with the index i as the first parameter, a, and b.\n",
        "5. Round result to 3rd decimal place and append to our numbers list\n",
        "6. Return our computed values list\n",
        "'''\n",
        "\n",
        "# DELETE THIS: list = 7  # these many modified Fibonacci numbers.\n",
        "def fibonacci_gt(n, t1, t2):\n",
        "    if n<0:\n",
        "        print(\"Incorrect input\")\n",
        "    elif n == 0:\n",
        "        return t1\n",
        "    elif n == 1:\n",
        "        return t2\n",
        "    else:\n",
        "        return fibonacci_gt(n-1,t1,t2)**2 + fibonacci_gt(n-2,t1,t2)\n",
        "\n",
        "def generate_numbers(a, b):\n",
        "    numbers = list()\n",
        "    for i in range(7):\n",
        "        numbers.append(round(fibonacci_gt(i,a,b),3))\n",
        "    return numbers\n",
        "\n",
        "generate_numbers(0, 1)\n",
        "type(generate_numbers(0,1))"
      ]
    },
    {
      "cell_type": "code",
      "execution_count": null,
      "id": "8e5dddcb",
      "metadata": {
        "id": "8e5dddcb",
        "outputId": "8a752952-3af7-478f-e732-a95de1ab5d43"
      },
      "outputs": [
        {
          "name": "stdout",
          "output_type": "stream",
          "text": [
            "\n",
            "(Passed!)\n"
          ]
        }
      ],
      "source": [
        "# Exposed test cell: `exercise_2`\n",
        "assert type(generate_numbers(0, 1)) is list, 'please check the type of your output'\n",
        "\n",
        "assert generate_numbers(0, 1) == [0, 1, 1, 2, 5, 27, 734]\n",
        "assert generate_numbers(0.3, 0.7) == [0.3, 0.7, 0.79, 1.324, 2.543, 7.792, 63.261]\n",
        "assert generate_numbers(5, 1) == [5, 1, 6, 37, 1375, 1890662, 3574602799619]\n",
        "assert generate_numbers(1, 2) == [1, 2, 5, 27, 734, 538783, 290287121823]\n",
        "\n",
        "print(\"\\n(Passed!)\")"
      ]
    },
    {
      "cell_type": "markdown",
      "id": "79c43396",
      "metadata": {
        "id": "79c43396"
      },
      "source": [
        "**Exercise 3** (2 points): The Smart Trader.\n",
        "\n",
        "One of the CSE-6040 TAs wants to analyze what would have been the best time to buy and sell a bitcoin, given a historical list of daily prices. (Prices are positive integers and you can ignore the units.)\n",
        "\n",
        "For example, suppose the daily prices on five consecutive days were `[10, 7, 2, 5, 1]`, and buying or selling must follow these rules:\n",
        "\n",
        "1. Over this time period, only one \"buy\" and one \"sell\" transaction can occur.\n",
        "2. If a person buys on day $i$, then she can only sell on a day $j \\geq i$.\n",
        "3. The profit is the selling price on day $i$ minus the buying price on day $j$.\n",
        "\n",
        "In this example, by buying on day $i=2$, when the price was 2 units, and selling on day $j=3$, when the prices was 5 units, one could have earned a profit of 5-2 = 3 units.\n",
        "\n",
        "The TA has sketched a program to calculate the maximum possible profit. Her solution appears in the function `make_money(prices)`, defined in the code cell below. It takes a list of prices (`prices`) over several days and returns the maximum profit. It is correct **except** there are some missing values, or \"holes,\" shown as **?**'s. Your task is to determine what goes in these holes.\n",
        "\n",
        "You can use the debugging cell provided for your own analysis."
      ]
    },
    {
      "cell_type": "code",
      "execution_count": null,
      "id": "19d08938",
      "metadata": {
        "id": "19d08938"
      },
      "outputs": [],
      "source": [
        "# You can modify the function as you deem fit!\n",
        "\n",
        "def make_money(prices): ## `prices` is a list\n",
        "    '''\n",
        "    INPUT:\n",
        "    prices is a list of numbers\n",
        "\n",
        "    GOAL:\n",
        "    Find the max profit that could be obtained by buying and selling on the best possible days\n",
        "\n",
        "    STRATEGY:\n",
        "    1. Initialize minimum price to 0th element of our input prices list\n",
        "    2. Initialize maximum profit to be negative infinity\n",
        "    3. Loop over prices list\n",
        "            4. If the current price at a given index location is less than the minimum price,\n",
        "            then set minimum price = the current price\n",
        "            5. Else if the expected profit is greater than my current maximum profit, update my maximum profit\n",
        "    6. Return max profit\n",
        "    '''\n",
        "\n",
        "    min_price = prices[0]\n",
        "    from math import inf\n",
        "    max_profit = -inf\n",
        "    for i in range(len(prices)):\n",
        "        if (prices[i] < min_price):\n",
        "            min_price = prices[i]\n",
        "        elif prices[i] - min_price > max_profit:\n",
        "            max_profit = prices[i] - min_price\n",
        "    return max_profit"
      ]
    },
    {
      "cell_type": "code",
      "execution_count": null,
      "id": "661a52e2",
      "metadata": {
        "id": "661a52e2"
      },
      "outputs": [],
      "source": [
        "## Debugging cell\n",
        "assert make_money([10, 7, 2, 5, 1]) == 3, 'Check your solution'"
      ]
    },
    {
      "cell_type": "code",
      "execution_count": null,
      "id": "cf3d021a",
      "metadata": {
        "id": "cf3d021a",
        "outputId": "0d9a79cf-ad45-4aca-e306-fd22d1a8a9e9"
      },
      "outputs": [
        {
          "name": "stdout",
          "output_type": "stream",
          "text": [
            "passed - test 1\n",
            "passed - test 2\n",
            "passed - test 3\n",
            "passed - test 4\n",
            "passed - test 5\n",
            "Running a battery of longer tests...\n",
            "\n",
            "(Passed!)\n"
          ]
        }
      ],
      "source": [
        "# Test cell: `exercise_3`\n",
        "\n",
        "assert make_money([7,1,5,3,6,4]) == 5, 'Check your solution'\n",
        "print('passed - test 1')\n",
        "\n",
        "assert make_money([10,8,5,3,6,4]) == 3, 'Check your solution'\n",
        "print('passed - test 2')\n",
        "\n",
        "assert make_money([10,8,5,9,6,4]) == 4, 'Check your solution'\n",
        "print('passed - test 3')\n",
        "\n",
        "assert make_money([1,8,9,14,14]) == 13, 'Check your solution'\n",
        "print('passed - test 4')\n",
        "\n",
        "assert make_money([11,8,5,2,1]) == 0, 'Check your solution'\n",
        "print('passed - test 5')\n",
        "\n",
        "def gen_prices(max_price=100, max_run=10):\n",
        "    from random import randrange, random\n",
        "    def rand_run(b, s, n):\n",
        "        return [randrange(b, s+1) for _ in range(randrange(n))]\n",
        "    buy_price = randrange(max_price)\n",
        "    sell_price = randrange(buy_price, max_price)\n",
        "    if buy_price != sell_price and random() < 0.1:\n",
        "        sell_price = buy_price\n",
        "    X = rand_run(buy_price, sell_price, max_run)\n",
        "    Y = rand_run(buy_price, sell_price, max_run)\n",
        "    Z = rand_run(buy_price, sell_price, max_run)\n",
        "    prices = X + [buy_price] + Y\n",
        "    buy_day = len(X)\n",
        "    if buy_price != sell_price or random() > 0.5:\n",
        "        sell_day = len(prices)\n",
        "        prices += [sell_price]\n",
        "    else:\n",
        "        sell_day = buy_day\n",
        "    prices += Z\n",
        "    return prices, sell_price - buy_price, (buy_day, buy_price), (sell_day, sell_price)\n",
        "\n",
        "def test_max_profit_rand(verbose=False):\n",
        "    prices, max_profit_true, (buy_day, buy_price), (sell_day, sell_price) = gen_prices()\n",
        "    if verbose: print(f\"Buy at {buy_price} on day {buy_day}, sell at {sell_price} on day {sell_day}:\\n==> {prices}\")\n",
        "    your_max_profit = make_money(prices)\n",
        "    assert your_max_profit == max_profit_true, \\\n",
        "           f\"Your solution didn't work on the following prices:\\n==> {prices}\\nThe max profit is {max_profit_true}, which comes from buying on day {buy_day} at price {buy_price} and selling on day {sell_day} at {sell_price}. You determined the max profit to be {your_max_profit} instead.\"\n",
        "\n",
        "print(\"Running a battery of longer tests...\")\n",
        "for _ in range(20):\n",
        "    test_max_profit_rand()\n",
        "\n",
        "print(\"\\n(Passed!)\")"
      ]
    },
    {
      "cell_type": "markdown",
      "id": "0c2b51a7",
      "metadata": {
        "id": "0c2b51a7"
      },
      "source": [
        "**Exercise 4** (3 points) Modified Tic-Tac-Toe Board Initialisation.\n",
        "\n",
        "We are building a complex Tic-Tac-Toe bot and we need a function to initialise a given board of size (`size * size`) as a 2-d list with blanks (`''`) except for the location ( defined by `position` which is a tuple `(row_num,column_num)`)).\n",
        "\n",
        "Your task is to find what is causing the below function to fail and rectify the bug.\n",
        "\n",
        "eg : `initialise_board(3,(1,1))` should output the following -\n",
        "\n",
        "`[['', '', ''], ['', 'X', ''], ['', '', '']]`\n",
        "\n",
        "Note 1: You have been given a snippet of code that has errors. You have to identify what is going wrong and rectify the errors in the same function.  "
      ]
    },
    {
      "cell_type": "code",
      "execution_count": null,
      "id": "15b8d82c",
      "metadata": {
        "id": "15b8d82c"
      },
      "outputs": [],
      "source": [
        "# You can modify the function as you deem fit!\n",
        "\n",
        "def initialise_board(size,position):\n",
        "    '''\n",
        "    INPUT:\n",
        "    1. size is a single number that tells us how big our board should be (i.e. 3 would mean we want a 3x3 board)\n",
        "    2. position is a tuple telling us the location we should put an X\n",
        "\n",
        "    GOAL:\n",
        "    Create the board and add the X value in the appropriate location\n",
        "\n",
        "    STRATEGY:\n",
        "    1. Create an empty board using the input 'size' to determine the number of rows/columns.\n",
        "    2. Grab the 0th element of my position tuple. Call this a.\n",
        "    3. Grab the 1st element of my position tuple. Call this b.\n",
        "    4. Set the [a][b] position of my nested board list to be X.\n",
        "    5. Return my board.\n",
        "    '''\n",
        "\n",
        "    board = [['']*size for i in range(size)]\n",
        "    a = position[0]\n",
        "    b = position[1]\n",
        "    board[a][b] = \"X\"\n",
        "    return(board)"
      ]
    },
    {
      "cell_type": "code",
      "execution_count": null,
      "id": "1e0d71f7",
      "metadata": {
        "id": "1e0d71f7",
        "outputId": "a43aecc0-9901-49c8-b0e6-8aebf611b23f"
      },
      "outputs": [
        {
          "data": {
            "text/plain": [
              "[['', '', ''], ['', 'X', ''], ['', '', '']]"
            ]
          },
          "execution_count": 10,
          "metadata": {},
          "output_type": "execute_result"
        }
      ],
      "source": [
        "## Feel free to use this cell for debugging\n",
        "initialise_board(3,(1,1))"
      ]
    },
    {
      "cell_type": "code",
      "execution_count": null,
      "id": "94781e43",
      "metadata": {
        "id": "94781e43",
        "outputId": "c4f613c0-49b6-4f83-ccc0-8a1c5e7b3ef7"
      },
      "outputs": [
        {
          "name": "stdout",
          "output_type": "stream",
          "text": [
            "Testing 7x7 board with an initial mark at position (2, 3)...\n",
            "Testing 2x2 board with an initial mark at position (0, 0)...\n",
            "Testing 3x3 board with an initial mark at position (0, 1)...\n",
            "Testing 6x6 board with an initial mark at position (3, 2)...\n",
            "Testing 9x9 board with an initial mark at position (4, 7)...\n",
            "Testing 1x1 board with an initial mark at position (0, 0)...\n",
            "Testing 5x5 board with an initial mark at position (1, 2)...\n",
            "Testing 1x1 board with an initial mark at position (0, 0)...\n",
            "Testing 6x6 board with an initial mark at position (0, 3)...\n",
            "Testing 1x1 board with an initial mark at position (0, 0)...\n",
            "\n",
            "(Passed!)\n"
          ]
        }
      ],
      "source": [
        "# Test cell: `exercise_4`\n",
        "\n",
        "assert initialise_board(4,(1,1)) == [['', '', '', ''], ['', 'X', '', ''], ['', '', '', ''], ['', '', '', '']]\n",
        "assert initialise_board(4,(1,2)) == [['', '', '', ''], ['', '', 'X', ''], ['', '', '', ''], ['', '', '', '']]\n",
        "assert initialise_board(3,(2,2)) == [['', '', ''], ['', '', ''], ['', '', 'X']]\n",
        "assert initialise_board(6,(2,4)) == [['', '', '', '', '', ''],['', '', '', '', '', ''], ['', '', '', '', 'X', ''],['', '', '', '', '', ''],['', '', '', '', '', ''],['', '', '', '', '', '']]\n",
        "\n",
        "def rand_test_board(max_n=10):\n",
        "    from random import randrange\n",
        "    n = randrange(1, max_n)\n",
        "    xi, xj = randrange(n), randrange(n)\n",
        "    print(f\"Testing {n}x{n} board with an initial mark at position {(xi, xj)}...\")\n",
        "    your_board = initialise_board(n, (xi, xj))\n",
        "    for i in range(n):\n",
        "        for j in range(n):\n",
        "            true_mark = 'X' if (xi, xj) == (i, j) else ''\n",
        "            your_mark = your_board[i][j]\n",
        "            assert your_mark == true_mark, f\"Position {(i, j)} should have a '{true_mark}', not a '{your_mark}'.\"\n",
        "\n",
        "for _ in range(10):\n",
        "    rand_test_board()\n",
        "\n",
        "print(\"\\n(Passed!)\")"
      ]
    }
  ],
  "metadata": {
    "kernelspec": {
      "display_name": "Python 3 (ipykernel)",
      "language": "python",
      "name": "python3"
    },
    "language_info": {
      "codemirror_mode": {
        "name": "ipython",
        "version": 3
      },
      "file_extension": ".py",
      "mimetype": "text/x-python",
      "name": "python",
      "nbconvert_exporter": "python",
      "pygments_lexer": "ipython3",
      "version": "3.10.6"
    },
    "colab": {
      "provenance": [],
      "include_colab_link": true
    }
  },
  "nbformat": 4,
  "nbformat_minor": 5
}