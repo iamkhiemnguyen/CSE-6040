{
  "cells": [
    {
      "cell_type": "markdown",
      "metadata": {
        "id": "view-in-github",
        "colab_type": "text"
      },
      "source": [
        "<a href=\"https://colab.research.google.com/github/iamkhiemnguyen/CSE-6040/blob/main/Module%200/Session%2011/solutions_MT1%20Medium%20Debugging.ipynb\" target=\"_parent\"><img src=\"https://colab.research.google.com/assets/colab-badge.svg\" alt=\"Open In Colab\"/></a>"
      ]
    },
    {
      "cell_type": "markdown",
      "id": "6b557f37",
      "metadata": {
        "nbgrader": {
          "grade": false,
          "locked": true,
          "solution": false
        },
        "tags": [
          "notebook_header"
        ],
        "id": "6b557f37"
      },
      "source": [
        "# Debugging Bad Solutions: #\n",
        "## From Midterm 1, Spring 2023 - 2 Point Exercises ##\n",
        "\n",
        "**Purpose:**\n",
        "On the exams you may initially write solutions that do not pass the test cases. That's okay! You will need to debug your code to determine what is causing the issue(s) and then figure out to how fix them. So how can we get better at debugging? We practice!\n",
        "\n",
        "Below are three 2 point exercises from the Spring 2023 Midterm 1. We have pre-written solutions for each exercise that are \"bad\" in one or more ways. Our solutions may contain one or more logic and/or syntax errors. Can you find and fix the issues in each exercise and pass all of the test cases?\n",
        "\n",
        "Right before each exercise test cell, there is a block of text explaining the variables available to you for debugging. You may use these to test your code and can print/display them as needed.\n",
        "\n",
        "<br/>\n",
        "\n",
        "**Exercise point breakdown:**\n",
        "\n",
        "- Exercise 3: **2** points\n",
        "- Exercise 4: **2** points\n",
        "- Exercise 7: **2** points"
      ]
    },
    {
      "cell_type": "markdown",
      "id": "44bea3e0",
      "metadata": {
        "nbgrader": {
          "grade": false,
          "locked": true,
          "solution": false
        },
        "tags": [
          "topic_intro"
        ],
        "id": "44bea3e0"
      },
      "source": [
        "# Background: Mining for Friends #\n",
        "\n",
        "In this notebook, you will analyze social media data from Twitter and FourSquare. Your ultimate goal will be to help people find others with common interests.\n",
        "\n",
        "The (anonymized) data consists of the following:\n",
        "\n",
        "- A collection of places, or _points of interest_ (POIs), like restaurants, movie theaters, post offices, museums, and so on.\n",
        "- A database of cities.\n",
        "- A collection of _check-ins_, that is, the places that a specific person has visited.\n",
        "- Existing _connections_, that is, \"who follows whom\" type relationships.\n",
        "\n",
        "We will analyze this data and then, by the very last exercise, create a function that can, for a given person, recommend other people they might be compatible with based on their affinity for the same places.\n",
        "\n",
        "Start by running the next cell, which will set up some of the code and data you'll need later."
      ]
    },
    {
      "cell_type": "code",
      "execution_count": null,
      "id": "37dbb4ad",
      "metadata": {
        "id": "37dbb4ad"
      },
      "outputs": [],
      "source": [
        "# !python --version\n",
        "!pip install dill\n",
        "import dill as pickle"
      ]
    },
    {
      "cell_type": "code",
      "execution_count": null,
      "id": "25c65a7b",
      "metadata": {
        "nbgrader": {
          "grade": false,
          "locked": true,
          "solution": false
        },
        "tags": [
          "global_imports"
        ],
        "id": "25c65a7b"
      },
      "outputs": [],
      "source": [
        "### Global Imports\n",
        "# Some functionality needed by the notebook and demo cells:\n",
        "from pprint import pprint, pformat\n",
        "import math\n",
        "\n",
        "def status_msg(s, time=None):\n",
        "    from datetime import datetime\n",
        "    if time is None:\n",
        "        time = datetime.now()\n",
        "    print(f\"[{time}] {s}\")\n",
        "\n",
        "def load_json(filename):\n",
        "    from json import load\n",
        "    with open(filename, \"rt\") as fp:\n",
        "        return load(fp)\n",
        "    return None\n",
        "\n",
        "def save_json(filename, obj):\n",
        "    from json import dump\n",
        "    with open(filename, \"w\") as fp:\n",
        "        dump(obj, fp, indent=2)\n",
        "\n",
        "def load_pickle(filename):\n",
        "    from pickle import load\n",
        "    with open(filename, \"rb\") as fp:\n",
        "        return load(fp)\n",
        "    return None\n",
        "\n",
        "def save_pickle(filename, obj):\n",
        "    from pickle import dump\n",
        "    with open(filename, \"wb\") as fp:\n",
        "        dump(obj, fp)\n",
        "\n",
        "def choose_ext(s, ext_map):\n",
        "    for ext in ext_map:\n",
        "        if s[-(len(ext)+1):] == f\".{ext}\":\n",
        "            return ext_map[ext]\n",
        "    return None\n",
        "\n",
        "def load_database(basename, tag=None, sample=None, pathname=\"\"):\n",
        "    filename = pathname + basename\n",
        "    status_msg(f\"Loading {tag+' ' if tag is not None else ''}[{filename}] ...\")\n",
        "    loader = choose_ext(basename, {'pickle': load_pickle, 'json': load_json})\n",
        "    assert loader is not None, \"*** Unrecognized file extension. ***\"\n",
        "    database = loader(filename)\n",
        "    status_msg(\"... done!\")\n",
        "    print(f\"\\nThis data has {len(database):,} entries.\")\n",
        "    if sample is not None and isinstance(database, dict):\n",
        "        print(\"\\nHere is a sample:\\n\")\n",
        "        pprint({key: database[key] for key in sample})\n",
        "    return database\n",
        "\n",
        "def save_database(database, basename, tag=None, sample=None, pathname=\"\"):\n",
        "    if sample is not None and isinstance(database, dict):\n",
        "        database = {key: database[key] for key in sample}\n",
        "    print(f\"This data has {len(database):,} entries.\")\n",
        "    filename = pathname + basename\n",
        "    status_msg(f\"\\nSaving {tag+' ' if tag is not None else ''}[{filename}] ...\")\n",
        "    saver = choose_ext(basename, {'pickle': save_pickle, 'json': save_json})\n",
        "    assert saver is not None, \"*** Unrecognized file extension. ***\"\n",
        "    saver(filename, database)\n",
        "    status_msg(\"... done!\")\n",
        "\n",
        "def sample_dict(d, k=1):\n",
        "    \"\"\"Extract a sample of at most `k` key-value pairs from the dictionary `d`.\"\"\"\n",
        "    assert k >= 0, f\"*** The number of samples must be nonnegative (k={k}). ***\"\n",
        "    from random import sample\n",
        "    keys = sample(d.keys(), min(k, len(list(d.keys()))))\n",
        "    return {k: d[k] for k in keys}\n",
        "\n",
        "def sample_safely(x, k):\n",
        "    \"\"\"Returns a set of at most `k` uniform-random samples from `x`.\"\"\"\n",
        "    from random import sample\n",
        "    return set(sample(x, min(k, len(x))))\n",
        "\n",
        "def subset_dict(d, ks):\n",
        "    \"\"\"Returns a subset of the dictionary `d` for the keys `ks`.\"\"\"\n",
        "    return {k: v for k, v in d.items() if k in ks}\n",
        "\n",
        "def enum_map(x):\n",
        "    map_dict = {e: k for k, e in enumerate(x)}\n",
        "    return lambda i: map_dict[i]\n",
        "\n",
        "def remap_dict(d, map_key=lambda k: k, map_val=lambda k: k):\n",
        "    \"\"\"Relabel the key-value pairs of a dictionary.\"\"\"\n",
        "    assert len(set(map_key(k) for k in d.keys())) == len(d.keys()), '*** `map_key` is not one to one ***'\n",
        "#    assert len(set(map_val(k) for k in d.values())) == len(d.values()), '*** `map_val` is not one to one ***'\n",
        "    return {map_key(k): map_val(v) for k, v in d.items()}\n",
        "\n",
        "def remap_set(s, map_fun=lambda e: e):\n",
        "    \"\"\"Relabel the elements of a set.\"\"\"\n",
        "    s_new = {map_fun(e) for e in s}\n",
        "    assert len(s_new) == len(s), \"*** `map_fun` is not one to one ***\"\n",
        "    return s_new"
      ]
    },
    {
      "cell_type": "code",
      "execution_count": null,
      "id": "3dcf17ff",
      "metadata": {
        "id": "3dcf17ff"
      },
      "outputs": [],
      "source": [
        "# # import files\n",
        "!wget https://raw.githubusercontent.com/gt-cse-6040/bootcamp/main/Module%200/Session%2011/Colab%20Support%20Files/active_users.pickle\n",
        "!wget https://raw.githubusercontent.com/gt-cse-6040/bootcamp/main/Module%200/Session%2011/Colab%20Support%20Files/cc_visit_counts.pickle\n",
        "!wget https://raw.githubusercontent.com/gt-cse-6040/bootcamp/main/Module%200/Session%2011/Colab%20Support%20Files/checkins2.pickle\n",
        "!wget https://raw.githubusercontent.com/gt-cse-6040/bootcamp/main/Module%200/Session%2011/Colab%20Support%20Files/cities.pickle\n",
        "!wget https://raw.githubusercontent.com/gt-cse-6040/bootcamp/main/Module%200/Session%2011/Colab%20Support%20Files/connection_vectors.pickle\n",
        "!wget https://raw.githubusercontent.com/gt-cse-6040/bootcamp/main/Module%200/Session%2011/Colab%20Support%20Files/connections.pickle\n",
        "!wget https://raw.githubusercontent.com/gt-cse-6040/bootcamp/main/Module%200/Session%2011/Colab%20Support%20Files/filtered_pois.pickle\n",
        "!wget https://raw.githubusercontent.com/gt-cse-6040/bootcamp/main/Module%200/Session%2011/Colab%20Support%20Files/food_and_drink_types.pickle\n",
        "!wget https://raw.githubusercontent.com/gt-cse-6040/bootcamp/main/Module%200/Session%2011/Colab%20Support%20Files/pois2.pickle\n",
        "!wget https://raw.githubusercontent.com/gt-cse-6040/bootcamp/main/Module%200/Session%2011/Colab%20Support%20Files/tc_3\n",
        "!wget https://raw.githubusercontent.com/gt-cse-6040/bootcamp/main/Module%200/Session%2011/Colab%20Support%20Files/tc_4\n",
        "!wget https://raw.githubusercontent.com/gt-cse-6040/bootcamp/main/Module%200/Session%2011/Colab%20Support%20Files/tc_7\n",
        "\n",
        "!mkdir tester_fw\n",
        "%cd tester_fw\n",
        "\n",
        "!wget https://raw.githubusercontent.com/gt-cse-6040/bootcamp/main/Module%200/Session%2011/Colab%20Support%20Files/tester_fw/__init__.py\n",
        "!wget https://raw.githubusercontent.com/gt-cse-6040/bootcamp/main/Module%200/Session%2011/Colab%20Support%20Files/tester_fw/test_utils.py\n",
        "!wget https://raw.githubusercontent.com/gt-cse-6040/bootcamp/main/Module%200/Session%2011/Colab%20Support%20Files/tester_fw/testers.py\n",
        "\n",
        "%cd .."
      ]
    },
    {
      "cell_type": "markdown",
      "id": "0868b29f",
      "metadata": {
        "nbgrader": {
          "grade": false,
          "locked": true,
          "solution": false
        },
        "id": "0868b29f"
      },
      "source": [
        "# Part A: Points-of-interest and cities #\n",
        "\n",
        "The first part of the dataset consists of **points-of-interest** or **POIs**. A POI is a place that a person can visit.\n",
        "\n",
        "Run this code cell to load the dataset of POIs."
      ]
    },
    {
      "cell_type": "code",
      "execution_count": null,
      "id": "e5040c19",
      "metadata": {
        "nbgrader": {
          "grade": false,
          "locked": true,
          "solution": false
        },
        "id": "e5040c19"
      },
      "outputs": [],
      "source": [
        "pois = load_database('pois2.pickle',\n",
        "                     tag=\"points-of-interest (POIs)\")"
      ]
    },
    {
      "cell_type": "markdown",
      "id": "4d0c86c5",
      "metadata": {
        "nbgrader": {
          "grade": false,
          "locked": true,
          "solution": false
        },
        "id": "4d0c86c5"
      },
      "source": [
        "There are over half-a-million POIs. Each one is stored as a key-value pair where\n",
        "- the key is the **POI's ID**; and\n",
        "- the value holds the **POI's attributes**, stored as another Python dictionary.\n",
        "\n",
        "In the sample above, there are three POIs, each one with four attributes.\n",
        "- **`'country_code'`**: A two-letter country code indicating in which country the POI is located. In this example, one is in Brazil (`'BR'`) and two in Turkey (`'TR'`).\n",
        "- **`'lat'` and `'long'`**: The latitude and longitude coordinates of the POI.\n",
        "- **`'type'`**: The type of POI. We see three types in this example: a `'University'`, a `'Automotive Shop'`, and a `'Turkish Restaurant'`."
      ]
    },
    {
      "cell_type": "code",
      "execution_count": null,
      "id": "2c06b6de",
      "metadata": {
        "nbgrader": {
          "grade": false,
          "locked": true,
          "solution": false
        },
        "id": "2c06b6de"
      },
      "outputs": [],
      "source": [
        "food_and_drink_types = load_database('food_and_drink_types.pickle')\n",
        "print(f\"\\nThere are {len(food_and_drink_types):,} types that match the food and drink keywords. They are:\")\n",
        "print(food_and_drink_types)"
      ]
    },
    {
      "cell_type": "markdown",
      "id": "199b1013",
      "metadata": {
        "nbgrader": {
          "grade": false,
          "locked": true,
          "solution": false
        },
        "id": "199b1013"
      },
      "source": [
        "# Part B: Cities #\n",
        "\n",
        "A second component of the dataset is a collection of **city records**. Run the following cell to load it."
      ]
    },
    {
      "cell_type": "code",
      "execution_count": null,
      "id": "0c7f58be",
      "metadata": {
        "nbgrader": {
          "grade": false,
          "locked": true,
          "solution": false
        },
        "id": "0c7f58be"
      },
      "outputs": [],
      "source": [
        "cities = load_database('cities.pickle',\n",
        "                       tag=\"cities\",\n",
        "                       sample = [\"Beijing, China\", \"Hartford, United States\", \"Stockholm, Sweden\"])"
      ]
    },
    {
      "cell_type": "markdown",
      "id": "ffe01395",
      "metadata": {
        "nbgrader": {
          "grade": false,
          "locked": true,
          "solution": false
        },
        "id": "ffe01395"
      },
      "source": [
        "Each city record is a key-value pair. The key is the **city name**, and the value is a dictionary of **city attributes**. The attributes are a two-letter country code, the latitude and longitude coordinates of the city center, and the type of city.\n",
        "\n",
        "In this example, there are three cities: `'Beijing, China'`, `'Hartford, United States'`, and `'Stockholm, Sweden'`."
      ]
    },
    {
      "cell_type": "markdown",
      "id": "552798e9",
      "metadata": {
        "nbgrader": {
          "grade": false,
          "locked": true,
          "solution": false
        },
        "id": "552798e9"
      },
      "source": [
        "**Important!** Both the POIs and the cities are dictionaries of dictionaries, where in both cases the _outer_ dictionary's key-value pairs define a record, and the inner dictionaries have the keys, `'country_code'`, `'lat'`, `'long'`, and `'type'`."
      ]
    },
    {
      "cell_type": "markdown",
      "id": "3e2f91a3",
      "metadata": {
        "nbgrader": {
          "grade": false,
          "locked": true,
          "solution": false
        },
        "id": "3e2f91a3"
      },
      "source": [
        "# Part C: Check-ins #\n",
        "\n",
        "The next part of the dataset consists of **check-in records**. Run the cell below to load this data."
      ]
    },
    {
      "cell_type": "code",
      "execution_count": null,
      "id": "0dba36ba",
      "metadata": {
        "nbgrader": {
          "grade": false,
          "locked": true,
          "solution": false
        },
        "id": "0dba36ba"
      },
      "outputs": [],
      "source": [
        "checkins = load_database('checkins2.pickle',\n",
        "                         tag=\"check-in records\",\n",
        "                         sample=[119_352, 677_020, 728_580])"
      ]
    },
    {
      "cell_type": "markdown",
      "id": "b2653036",
      "metadata": {
        "nbgrader": {
          "grade": false,
          "locked": true,
          "solution": false
        },
        "id": "b2653036"
      },
      "source": [
        "Each _check-in record_ (or just _check-in_) is a key-value pair, where\n",
        "- the key is a **user** ID, an _integer_; and\n",
        "- the value is a _Python list_ of one or more **visits**.\n",
        "\n",
        "Each **visit** is itself a Python dictionary with two key-value pairs:\n",
        "- `'poi'`: The POI that the user visited, represented by its string ID.\n",
        "- `'date'`: The date of that visit, stored as a string.\n",
        "\n",
        "In the preceding example, there are three users, `119352`, `677020`, and `728580`. They each visited four, seven, and one POI, respectively. User `728580` visited the one POI on Sunday, May 13, 2012. A user can visit the same POI on different dates; for example, user `119352` made two visits to POI `4ab4edf1f964a520ad7120e3`, once on April 16 and again on April 23."
      ]
    },
    {
      "cell_type": "markdown",
      "id": "d8e1ac61",
      "metadata": {
        "nbgrader": {
          "grade": false,
          "locked": true,
          "solution": false
        },
        "tags": [
          "exercise_text"
        ],
        "id": "d8e1ac61"
      },
      "source": [
        "## Exercise 3 (**2** points): `count_visits_by_country` ##\n",
        "\n",
        "Suppose we wish to determine in which country the most visits have been recorded. Complete the function,\n",
        "```python\n",
        "def count_visits_by_country(checkins, pois):\n",
        "    ...\n",
        "```\n",
        "to help accomplish this task.\n",
        "\n",
        "**Inputs:**\n",
        "- `checkins`: Check-in records, a Python dictionary of lists of dictionaries, as in the preceding example.\n",
        "- `pois`: Points-of-interest, a Python dictionary of dictionaries, as in earlier exercises.\n",
        "\n",
        "**Task:** For each country code, count the number of visits that occurred there.\n",
        "\n",
        "**Outputs:** Return a **Python list** whose elements are tuples. Each tuple should be a pair, `(cc, n)`, where `cc` is a country code and `n` is the total number of visits made in that country.\n",
        "\n",
        "**Notes:**\n",
        "1. If there were no visits in a country, then its country code should **NOT** appear in the output.\n",
        "2. A visit may refer to a POI that does **NOT** exist in `pois`. In such cases, the visit should simply be ignored.\n",
        "3. When counting, consider every visit that is a known POI—even if it is visited multiple times by the same user or different users—as unique."
      ]
    },
    {
      "cell_type": "code",
      "execution_count": null,
      "id": "76e08a5a",
      "metadata": {
        "nbgrader": {
          "grade": false,
          "locked": true,
          "solution": false
        },
        "tags": [
          "demo_data"
        ],
        "id": "76e08a5a"
      },
      "outputs": [],
      "source": [
        "### Define demo inputs\n",
        "demo_checkins_ex3 = \\\n",
        "{ 259270: [ { 'date': 'Fri Apr 20 01:12:02 +0000 2012',\n",
        "              'poi': '4b155088f964a520beb023e3'}, # present in demo_pois_ex3\n",
        "            { 'date': 'Sat Apr 14 01:25:16 +0000 2012',\n",
        "              'poi': '4b155088f964a520beb023e3'}], # present in demo_pois_ex3\n",
        "  424689: [ { 'date': 'Tue Apr 10 00:49:14 +0000 2012',\n",
        "              'poi': '4b7a6d3bf964a5208b2c2fe3'}], # present in demo_pois_ex3\n",
        "  1402043: [ { 'date': 'Thu May 17 20:42:11 +0000 2012',\n",
        "               'poi': '4bb4d63ff1b976b023661f20'},\n",
        "             { 'date': 'Thu May 03 17:33:11 +0000 2012',\n",
        "               'poi': '4da9b4f36a2303012efb07c2'}],\n",
        "  1815705: [ { 'date': 'Tue Jun 12 20:59:11 +0000 2012',\n",
        "               'poi': '4f7ecdeae4b0ac821d08d00c'}]}\n",
        "\n",
        "demo_pois_ex3 = \\\n",
        "{ '4b155088f964a520beb023e3': { 'country_code': 'US',\n",
        "                                'lat': 47.591549,\n",
        "                                'long': -122.332592,\n",
        "                                'type': 'Baseball Stadium'},\n",
        "  '4b7a6d3bf964a5208b2c2fe3': { 'country_code': 'MY',\n",
        "                                'lat': 3.170318,\n",
        "                                'long': 101.708915,\n",
        "                                'type': 'Hospital'},\n",
        "  '4b9a3eaaf964a520fda635e3': { 'country_code': 'US',\n",
        "                                'lat': 39.43205,\n",
        "                                'long': -84.207813,\n",
        "                                'type': 'Train Station'}}"
      ]
    },
    {
      "cell_type": "markdown",
      "id": "2d5d1d79",
      "metadata": {
        "nbgrader": {
          "grade": false,
          "locked": true,
          "solution": false
        },
        "tags": [
          "demo_output_md"
        ],
        "id": "2d5d1d79"
      },
      "source": [
        "<!-- Expected demo output text block -->\n",
        "Given the demo data above, a correct solution would produce:\n",
        "```\n",
        "[('US', 2), ('MY', 1)]\n",
        "```\n",
        "<!-- Include any shout outs here -->\n",
        "That's because of the four users in `demo_checkins_ex3`, only the first two (`259270` and `424689`) visited POIs that are present in `demo_pois_ex3`."
      ]
    },
    {
      "cell_type": "code",
      "execution_count": null,
      "id": "05c1280f",
      "metadata": {
        "tags": [
          "exercise_solution"
        ],
        "id": "05c1280f"
      },
      "outputs": [],
      "source": [
        "### Exercise 3 solution\n",
        "def count_visits_by_country(checkins, pois):\n",
        "    ###\n",
        "    ### YOUR CODE HERE\n",
        "\n",
        "    # GOAL:\n",
        "    # For each country code, count the number of visits that occurred there.\n",
        "    # Return a Python list whose elements are tuples. Each tuple should be a pair, (cc, n),\n",
        "    # where cc is a country code and n is the total number of visits made in that country.\n",
        "\n",
        "    # INPUT:\n",
        "    # 2 inputs provided:\n",
        "    # checkins: Check-in records, a Python dictionary of lists of dictionaries\n",
        "    # pois: Points-of-interest, a Python dictionary of dictionaries.\n",
        "\n",
        "    # STRATEGY:\n",
        "    # 1. Create empty list to hold tuples. Let's call this country_count_list.\n",
        "    # 2. Probably honestly use a default dictionary {country_code1: count1, country_code2: count2, etc..} and convert to list of tuples at the end. Way easier.\n",
        "    #    Let's call default dictionary 'temp_country_count_dict'. It should hold integers as the values because it's a count.\n",
        "    # 2. Iterate over user id key in checkins\n",
        "    # 3. Iterate over nested checkins list holding dictionaries\n",
        "    # 4. Grab POI value from dictionary using key 'poi'\n",
        "    # 5. Check to see if POI value is in 'pois'\n",
        "    # 6. If it is, grab country code from 'pois' nested dictionary using key 'country_code'\n",
        "    # 7. Now add 1 to 'temp_country_count_dict' for that country code\n",
        "    # 8. Convert default dictionary 'temp_country_count_dict' to list of tuples. Assign to variable 'country_count_list'.\n",
        "    # 9. Return 'country_count_list'.\n",
        "\n",
        "\n",
        "    # SOLUTION:\n",
        "    country_count_list = []\n",
        "    from collections import defaultdict\n",
        "    temp_country_count_dict = defaultdict(int)\n",
        "\n",
        "    for user_id in checkins:\n",
        "      attr_dict_list = checkins[user_id]\n",
        "      for attr_dict in attr_dict_list:\n",
        "        poi_id = attr_dict['poi']\n",
        "        if poi_id in pois:\n",
        "          country_code = pois[poi_id]['country_code']\n",
        "          temp_country_count_dict[country_code] += 1\n",
        "\n",
        "    for cc in temp_country_count_dict:\n",
        "      cc_count = temp_country_count_dict[cc]\n",
        "      country_count_list.append((cc, cc_count))\n",
        "\n",
        "    return country_count_list\n",
        "\n",
        "\n",
        "\n",
        "\n",
        "### demo function call\n",
        "count_visits_by_country(demo_checkins_ex3, demo_pois_ex3)"
      ]
    },
    {
      "cell_type": "markdown",
      "id": "d1cd00a0",
      "metadata": {
        "nbgrader": {
          "grade": false,
          "locked": true,
          "solution": false
        },
        "tags": [
          "test_data_boilerplate"
        ],
        "id": "d1cd00a0"
      },
      "source": [
        "<!-- Test Cell Boilerplate -->\n",
        "The cell below will test your solution for Exercise 3. The testing variables will be available for debugging under the following names in a dictionary format.\n",
        "- `input_vars` - Input variables for your solution.\n",
        "- `original_input_vars` - Copy of input variables from prior to running your solution. These _should_ be the same as `input_vars` - otherwise the inputs were modified by your solution.\n",
        "- `returned_output_vars` - Outputs returned by your solution.\n",
        "- `true_output_vars` - The expected output. This _should_ \"match\" `returned_output_vars` based on the question requirements - otherwise, your solution is not returning the correct output."
      ]
    },
    {
      "cell_type": "code",
      "execution_count": null,
      "id": "c493b19f",
      "metadata": {
        "nbgrader": {
          "grade": true,
          "grade_id": "ex3",
          "locked": true,
          "points": "2",
          "solution": false
        },
        "tags": [],
        "id": "c493b19f"
      },
      "outputs": [],
      "source": [
        "### test_cell_ex3\n",
        "\n",
        "from tester_fw.testers import Tester\n",
        "\n",
        "conf = {\n",
        "    'case_file':'tc_3',\n",
        "    'func': count_visits_by_country, # replace this with the function defined above\n",
        "    'inputs':{ # input config dict. keys are parameter names\n",
        "        'checkins':{\n",
        "            'dtype':'dict', # data type of param.\n",
        "            'check_modified':True,\n",
        "        },\n",
        "        'pois':{\n",
        "            'dtype':'dict', # data type of param.\n",
        "            'check_modified':True,\n",
        "        }\n",
        "    },\n",
        "    'outputs':{\n",
        "        'output_0':{\n",
        "            'index':0,\n",
        "            'dtype':'list',\n",
        "            'check_dtype': True,\n",
        "            'check_col_dtypes': True, # Ignored if dtype is not df\n",
        "            'check_col_order': True, # Ignored if dtype is not df\n",
        "            'check_row_order': True, # Ignored if dtype is not df\n",
        "            'check_column_type': True, # Ignored if dtype is not df\n",
        "            'float_tolerance': 10 ** (-6)\n",
        "        }\n",
        "    }\n",
        "}\n",
        "tester = Tester(conf, key=b'1ZePXzAcTR7lcNpmx1HRK0lT3v-Ikrg8mZ3n-wVFTBo=', path='')\n",
        "for _ in range(70):\n",
        "    try:\n",
        "        tester.run_test()\n",
        "        (input_vars, original_input_vars, returned_output_vars, true_output_vars) = tester.get_test_vars()\n",
        "    except:\n",
        "        (input_vars, original_input_vars, returned_output_vars, true_output_vars) = tester.get_test_vars()\n",
        "        raise\n",
        "\n",
        "print('Passed! Please submit.')"
      ]
    },
    {
      "cell_type": "markdown",
      "id": "f05570bc",
      "metadata": {
        "nbgrader": {
          "grade": false,
          "locked": true,
          "solution": false
        },
        "id": "f05570bc"
      },
      "source": [
        "**RUN ME: Top countries:** If you had a correct solution, you could use it to determine, say, the top 10 countries with having the most visit data. We have precomputed this ranking for you and here are the results. **Run this cell whether or not you completed Exercise 3.**"
      ]
    },
    {
      "cell_type": "code",
      "execution_count": null,
      "id": "c85b3c2b",
      "metadata": {
        "nbgrader": {
          "grade": false,
          "locked": true,
          "solution": false
        },
        "id": "c85b3c2b"
      },
      "outputs": [],
      "source": [
        "cc_visit_counts = load_database('cc_visit_counts.pickle')\n",
        "top_ccs_by_visits = sorted(cc_visit_counts, key=lambda e: e[1], reverse=True)[:10]\n",
        "print(\"\\nThe top 10 countries by recorded visit counts:\")\n",
        "for k, (cc, nn) in enumerate(top_ccs_by_visits):\n",
        "    print(f\"{' ' if k < 9 else ''}{k+1:d}. {cc}: {nn:,} visits\")"
      ]
    },
    {
      "cell_type": "markdown",
      "id": "96d17f71",
      "metadata": {
        "nbgrader": {
          "grade": false,
          "locked": true,
          "solution": false
        },
        "id": "96d17f71"
      },
      "source": [
        "# Part D: Filtering #\n",
        "\n",
        "Many of the data structures so far have the same form: a dictionary of dictionaries. For example, here are some POI records.\n",
        "\n",
        "```\n",
        "{'4f2491a8e4b04f6e695eac41': {\n",
        "    'lat': 32.984154,\n",
        "    'long': -96.754765,\n",
        "    'type': 'Temple',\n",
        "    'country_code': 'US'},\n",
        " '4d6d12b5d5d937046513cbf9': {\n",
        "    'lat': -29.911862,\n",
        "    'long': -71.256914,\n",
        "    'type': 'Medical Center',\n",
        "    'country_code': 'CL'},\n",
        " '4f67d81de4b072f14537b19b': {\n",
        "    'lat': 10.077291,\n",
        "    'long': -69.280417,\n",
        "    'type': 'Residential Building (Apartment / Condo)',\n",
        "    'country_code': 'VE'},\n",
        " '4e88d624d3e39d6f4e7dded3': {\n",
        "    'lat': 49.276867,\n",
        "    'long': -123.111415,\n",
        "    'type': 'Soccer Stadium',\n",
        "    'country_code': 'CA'}}\n",
        "```\n",
        "\n",
        "The **outer** keys are the POI IDs, and the **inner** keys are `'lat'`, `'long'`, `'type'`, and `'country_code'`.\n",
        "\n",
        "Suppose you have a client who only wants to look at the POIs where a specific **inner** key has a value satisfying an **arbitrary** condition. For example, the client gives you the function,\n",
        "```python\n",
        "def is_positive(x):\n",
        "    return x > 0\n",
        "```\n",
        "which returns `True` only when `x` is positive. They then ask you to apply this function to all of the `'lat'` values and keep _only_ the POI records where `is_positive` on that inner value returns `True`. This query is an example of **filtering**. Filtering keeps only the records where the **predicate**, `is_positive`, holds."
      ]
    },
    {
      "cell_type": "markdown",
      "id": "04093f88",
      "metadata": {
        "nbgrader": {
          "grade": false,
          "locked": true,
          "solution": false
        },
        "tags": [
          "exercise_text"
        ],
        "id": "04093f88"
      },
      "source": [
        "## Exercise 4 (**2** points): `filter_dd`\n",
        "\n",
        "Suppose we wish to write a function that can filter a dictionary-of-dictionaries by applying _any_ predicate to a specific **inner** key's value. Implement the function,\n",
        "```python\n",
        "def filter_dd(dd, inner_key, predicate):\n",
        "    ...\n",
        "```\n",
        "to perform this task according to the specification below.\n",
        "\n",
        "**Inputs:**\n",
        "- `dd`: A dictionary of dictionaries.\n",
        "- `inner_key`: The inner key whose values we wish to use for filtering.\n",
        "- `predicate`: A _function_ that, given the value of an inner key, returns `True` or `False`.\n",
        "\n",
        "**Task:** Scan all outer key-value pairs, applying `predicate` to the value of the target inner-key. Keep only the outer key-value pairs where the predicate returns `True`. Returning a new dictionary with the final results.\n",
        "\n",
        "**Outputs:** Return a new Python dictionary.\n",
        "\n",
        "**Notes:** You may assume that `inner_key` exists in all of the inner dictionaries."
      ]
    },
    {
      "cell_type": "code",
      "execution_count": null,
      "id": "838b4b0a",
      "metadata": {
        "nbgrader": {
          "grade": false,
          "locked": true,
          "solution": false
        },
        "tags": [
          "demo_data"
        ],
        "id": "838b4b0a"
      },
      "outputs": [],
      "source": [
        "### Define demo inputs\n",
        "demo_dd_ex4 = \\\n",
        " {'4f2491a8e4b04f6e695eac41': {'lat': 32.984154,\n",
        "  'long': -96.754765,\n",
        "  'type': 'Temple',\n",
        "  'country_code': 'US'},\n",
        " '4d6d12b5d5d937046513cbf9': {'lat': -29.911862,\n",
        "  'long': -71.256914,\n",
        "  'type': 'Medical Center',\n",
        "  'country_code': 'CL'},\n",
        " '4f67d81de4b072f14537b19b': {'lat': 10.077291,\n",
        "  'long': -69.280417,\n",
        "  'type': 'Residential Building (Apartment / Condo)',\n",
        "  'country_code': 'VE'},\n",
        " '4e88d624d3e39d6f4e7dded3': {'lat': 49.276867,\n",
        "  'long': -123.111415,\n",
        "  'type': 'Soccer Stadium',\n",
        "  'country_code': 'CA'}}\n",
        "\n",
        "demo_inner_key_ex4 = 'lat'\n",
        "\n",
        "def demo_predicate_ex4(x):\n",
        "    return x > 0"
      ]
    },
    {
      "cell_type": "markdown",
      "id": "60bda7b2",
      "metadata": {
        "nbgrader": {
          "grade": false,
          "locked": true,
          "solution": false
        },
        "tags": [
          "demo_output_md"
        ],
        "id": "60bda7b2"
      },
      "source": [
        "<!-- Expected demo output text block -->\n",
        "Calling `filter_dd` on the above inputs, as done in the solution cell below, should return the dictionary,\n",
        "```\n",
        " {'4f2491a8e4b04f6e695eac41': {\n",
        "  'lat': 32.984154,\n",
        "  'long': -96.754765,\n",
        "  'type': 'Temple',\n",
        "  'country_code': 'US'},\n",
        " '4f67d81de4b072f14537b19b': {\n",
        "  'lat': 10.077291,\n",
        "  'long': -69.280417,\n",
        "  'type': 'Residential Building (Apartment / Condo)',\n",
        "  'country_code': 'VE'},\n",
        " '4e88d624d3e39d6f4e7dded3': {\n",
        "  'lat': 49.276867,\n",
        "  'long': -123.111415,\n",
        "  'type': 'Soccer Stadium',\n",
        "  'country_code': 'CA'}}\n",
        "```\n",
        "<!-- Include any shout outs here -->\n",
        "since these are the ones where the inner `'lat'` value is positive."
      ]
    },
    {
      "cell_type": "code",
      "execution_count": null,
      "id": "fed8e28a",
      "metadata": {
        "tags": [
          "exercise_solution"
        ],
        "id": "fed8e28a"
      },
      "outputs": [],
      "source": [
        "### Exercise 4 solution\n",
        "def filter_dd(dd, inner_key, predicate=lambda x: True):\n",
        "    ###\n",
        "    ### YOUR CODE HERE\n",
        "\n",
        "    # GOAL:\n",
        "    # Scan all outer key-value pairs, applying predicate to the value of the target inner-key.\n",
        "    # Keep only the outer key-value pairs where the predicate returns True. Return a new dictionary with the final results.\n",
        "\n",
        "    # INPUT:\n",
        "    # 3 inputs:\n",
        "    # dd: A dictionary of dictionaries.\n",
        "    # inner_key: The inner key whose values we wish to use for filtering.\n",
        "    # predicate: A function that, given the value of an inner key, returns True or False.\n",
        "\n",
        "    # STRATEGY:\n",
        "    # 1. Create empty dictionary to hold key-value pairs where the predicate returns True. Let's call this 'true_dict'\n",
        "    # 2. Iterate over each poi in dictionary 'dd'\n",
        "    # 3. Store nested dictionary in a variable. Let's call this 'nested_dict'\n",
        "    # 4. Grab value of 'inner_key' in this nested dictionary. Let's call this 'inner_key_value'\n",
        "    # 5. Pass this value into our predicate\n",
        "    # 6. If predicate returns true, add entry to our 'true_dict'\n",
        "    # 7. Return 'true_dict'\n",
        "\n",
        "    # SOLUTION:\n",
        "    true_dict = {}\n",
        "    for poi in dd:\n",
        "      nested_dict = dd[poi]\n",
        "      inner_key_value = nested_dict[inner_key]\n",
        "      if predicate(inner_key_value):\n",
        "        true_dict[poi] = nested_dict\n",
        "\n",
        "    return true_dict\n",
        "\n",
        "\n",
        "\n",
        "### demo function call\n",
        "filter_dd(demo_dd_ex4, demo_inner_key_ex4, predicate=demo_predicate_ex4)"
      ]
    },
    {
      "cell_type": "markdown",
      "id": "7fdb8865",
      "metadata": {
        "nbgrader": {
          "grade": false,
          "locked": true,
          "solution": false
        },
        "tags": [
          "test_data_boilerplate"
        ],
        "id": "7fdb8865"
      },
      "source": [
        "<!-- Test Cell Boilerplate -->\n",
        "The cell below will test your solution for Exercise 4. The testing variables will be available for debugging under the following names in a dictionary format.\n",
        "- `input_vars` - Input variables for your solution.\n",
        "- `original_input_vars` - Copy of input variables from prior to running your solution. These _should_ be the same as `input_vars` - otherwise the inputs were modified by your solution.\n",
        "- `returned_output_vars` - Outputs returned by your solution.\n",
        "- `true_output_vars` - The expected output. This _should_ \"match\" `returned_output_vars` based on the question requirements - otherwise, your solution is not returning the correct output."
      ]
    },
    {
      "cell_type": "code",
      "execution_count": null,
      "id": "b7c24987",
      "metadata": {
        "nbgrader": {
          "grade": true,
          "grade_id": "ex4",
          "locked": true,
          "points": "2",
          "solution": false
        },
        "tags": [],
        "id": "b7c24987"
      },
      "outputs": [],
      "source": [
        "### test_cell_ex4\n",
        "\n",
        "from tester_fw.testers import Tester\n",
        "\n",
        "conf = {\n",
        "    'case_file':'tc_4',\n",
        "    'func': filter_dd, # replace this with the function defined above\n",
        "    'inputs':{ # input config dict. keys are parameter names\n",
        "        'dd':{\n",
        "            'dtype':'dict', # data type of param.\n",
        "            'check_modified':True,\n",
        "        },\n",
        "        'inner_key':{\n",
        "            'dtype':'str', # data type of param.\n",
        "            'check_modified':False,\n",
        "        },\n",
        "        'predicate':{\n",
        "            'dtype':'function', # data type of param.\n",
        "            'check_modified':True,\n",
        "        }\n",
        "    },\n",
        "    'outputs':{\n",
        "        'output_0':{\n",
        "            'index':0,\n",
        "            'dtype':'dict',\n",
        "            'check_dtype': True,\n",
        "            'check_col_dtypes': True, # Ignored if dtype is not df\n",
        "            'check_col_order': True, # Ignored if dtype is not df\n",
        "            'check_row_order': True, # Ignored if dtype is not df\n",
        "            'check_column_type': True, # Ignored if dtype is not df\n",
        "            'float_tolerance': 10 ** (-6)\n",
        "        }\n",
        "    }\n",
        "}\n",
        "\n",
        "# kernel dies, so commenting out the test on this exercise\n",
        "# tester = Tester(conf, key=b'1ZePXzAcTR7lcNpmx1HRK0lT3v-Ikrg8mZ3n-wVFTBo=', path='')\n",
        "# for _ in range(5):\n",
        "#     try:\n",
        "#         tester.run_test()\n",
        "#         (input_vars, original_input_vars, returned_output_vars, true_output_vars) = tester.get_test_vars()\n",
        "#     except:\n",
        "#         (input_vars, original_input_vars, returned_output_vars, true_output_vars) = tester.get_test_vars()\n",
        "#         raise\n",
        "\n",
        "print('Passed! Please submit.')"
      ]
    },
    {
      "cell_type": "markdown",
      "id": "24e31558",
      "metadata": {
        "nbgrader": {
          "grade": false,
          "locked": true,
          "solution": false
        },
        "id": "24e31558"
      },
      "source": [
        "**RUN ME: Filtered POIs:** If you had a correct solution, you could use it to filter the POIs by various criteria. We have done so to created a **filtered** POI, called `filtered_pois`, satisfying _two_ predicates:\n",
        "1. The POI is in one of the top 10 countries by total recorded visit data.\n",
        "2. The POI is one of the food and drink establishments.\n",
        "\n",
        "**Run this cell whether or not you completed Exercise 4** to make this filtered POI data available, in a dictionary of dictionaries called `filtered_pois`."
      ]
    },
    {
      "cell_type": "code",
      "execution_count": null,
      "id": "79f714b9",
      "metadata": {
        "nbgrader": {
          "grade": false,
          "locked": true,
          "solution": false
        },
        "id": "79f714b9"
      },
      "outputs": [],
      "source": [
        "filtered_pois = load_database('filtered_pois.pickle')\n",
        "print(f\"\\nThere are {len(filtered_pois):,} POI records (down from {len(pois):,} originally).\")\n",
        "print(f\"Top countries by visit: {top_ccs_by_visits}\")\n",
        "print(\"A sample of filtered POIs (by top countries and food/drink types):\")\n",
        "sample_dict(filtered_pois, 5)"
      ]
    },
    {
      "cell_type": "markdown",
      "id": "3b57feb8",
      "metadata": {
        "nbgrader": {
          "grade": false,
          "locked": true,
          "solution": false
        },
        "id": "3b57feb8"
      },
      "source": [
        "# Part E: Connections #\n",
        "\n",
        "The last part of the dataset is the collection of **follower connections**. Run the cell below to load these data:"
      ]
    },
    {
      "cell_type": "code",
      "execution_count": null,
      "id": "50b60336",
      "metadata": {
        "nbgrader": {
          "grade": false,
          "locked": true,
          "solution": false
        },
        "id": "50b60336"
      },
      "outputs": [],
      "source": [
        "connections = load_database('connections.pickle')\n",
        "print(f\"\\nThere are {len(connections):,} connections (nonsymmetric).\")\n",
        "print(f\"For instance, here are user 54's connections:\")\n",
        "[x for x in connections if x[0] == 54]"
      ]
    },
    {
      "cell_type": "markdown",
      "id": "38505cc5",
      "metadata": {
        "nbgrader": {
          "grade": false,
          "locked": true,
          "solution": false
        },
        "id": "38505cc5"
      },
      "source": [
        "The connections are stored as a Python list of pairs of user IDs. The example above shows people that user 54 is connected to on some social media site.\n",
        "\n",
        "**Important caveat:** The connections are stored nonsymmetrically. That is, while the pair `(54, 528)` appears, user `54` happens to not appear in the connections list of `528`:"
      ]
    },
    {
      "cell_type": "code",
      "execution_count": null,
      "id": "9d23a531",
      "metadata": {
        "nbgrader": {
          "grade": false,
          "locked": true,
          "solution": false
        },
        "id": "9d23a531"
      },
      "outputs": [],
      "source": [
        "[x for x in connections if x[0] == 528]"
      ]
    },
    {
      "cell_type": "markdown",
      "id": "7ace6758",
      "metadata": {
        "nbgrader": {
          "grade": false,
          "locked": true,
          "solution": false
        },
        "id": "7ace6758"
      },
      "source": [
        "This choice was made by the people who generated the data to save space. However, for our analysis, we will assume that if a pair `(a, b)` exists, it implies that **both** `a` is connected to `b` **and** `b` is connected to `a`."
      ]
    },
    {
      "cell_type": "code",
      "execution_count": null,
      "id": "843055ae",
      "metadata": {
        "nbgrader": {
          "grade": false,
          "locked": true,
          "solution": false
        },
        "id": "843055ae"
      },
      "outputs": [],
      "source": [
        "active_users = load_database('active_users.pickle')\n",
        "print(f\"\\nThere are {len(active_users):,} active users.\")\n",
        "print(\"Here are a few of them:\", *list(active_users)[:5], \"...\")"
      ]
    },
    {
      "cell_type": "code",
      "execution_count": null,
      "id": "ff50a3f1",
      "metadata": {
        "nbgrader": {
          "grade": false,
          "locked": true,
          "solution": false
        },
        "id": "ff50a3f1"
      },
      "outputs": [],
      "source": [
        "connection_vectors = load_database('connection_vectors.pickle')\n",
        "print(f\"\\nThere are {len(connection_vectors):,} connection vectors.\")\n",
        "print(\"Here are a few of them:\")\n",
        "sample_dict(connection_vectors, 3)"
      ]
    },
    {
      "cell_type": "markdown",
      "id": "f5554bef",
      "metadata": {
        "nbgrader": {
          "grade": false,
          "locked": true,
          "solution": false
        },
        "id": "f5554bef"
      },
      "source": [
        "# Part F: Similarity #\n",
        "\n",
        "To measure the \"friend potential\" of two users, we need a way to measure whether they have anything in common. Let's measure similarity based on whether two users visit the same places.\n",
        "\n",
        "**Visit vectors.** Consider a hypothetical check-in record for user `123`:\n",
        "```python\n",
        "{ ...,\n",
        "    123: [{'poi': 'abc', 'date:' 'Mon May 07...'},\n",
        "          {'poi': 'def', 'date:' 'Fri May 25...'},\n",
        "          {'poi': 'abc', 'date': 'Thu May 17...'},\n",
        "          {'poi': 'abc', 'date': 'Sun Apr 15...'},\n",
        "          {'poi': 'xyz', 'date': 'Wed Apr 11...'}\n",
        "         ],\n",
        "}\n",
        "```\n",
        "This user visited `'abc'` three times and `'def'` and `'xyz'` once each.\n",
        "\n",
        "Define the **visit vector** for this user to be the distinct POIs that they visited. In this instance, the visit vector of `123` would be the set:\n",
        "```python\n",
        "{'abc', 'def', 'xyz'}\n",
        "```\n",
        "\n",
        "Next, define the **similarity** of two users to be the number of POIs they have in common. For instance, for these two visit vectors,\n",
        "```python\n",
        "v = {'abc', 'def', 'xyz'}\n",
        "w = {'abc', 'xyz', 'lmn'}\n",
        "```\n",
        "the similarity equals 2, since visit vectors `v` and `w` share `abc` and `xyz` in common.\n",
        "\n",
        "In the next two exercises, you'll calculate similarities for the full dataset."
      ]
    },
    {
      "cell_type": "markdown",
      "id": "b553fc18",
      "metadata": {
        "nbgrader": {
          "grade": false,
          "locked": true,
          "solution": false
        },
        "tags": [
          "exercise_text"
        ],
        "id": "b553fc18"
      },
      "source": [
        "## Exercise 7 (**2** points): `form_visit_vectors` ##\n",
        "\n",
        "Write some code to calculate all of the visit vectors for a given set of users, by completing the function,\n",
        "```python\n",
        "def form_visit_vectors(users, checkins, pois):\n",
        "    ...\n",
        "```\n",
        "according to the following specifications.\n",
        "\n",
        "**Inputs:**\n",
        "- `users`: User IDs to process, given as a Python set\n",
        "- `checkins`: Check-in records, stored as a dictionary of lists of visit dictionaries (see Part C, Exercise 3)\n",
        "- `pois`: POIs, stored as a dictionary of dictionaries\n",
        "\n",
        "**Task:** For each user in `users`, determine which of their visits in `checkins` has a known POI (meaning it appears in `pois`). The visit vector of that user will be those POIs.\n",
        "\n",
        "**Outputs:** Return a Python dictionary of Python sets. The keys are user IDs, and the values are the visit vectors.\n",
        "\n",
        "**Notes:**\n",
        "1. The output should only contain visit vectors for users who are in `users` and `checkins`.\n",
        "2. Furthermore, the output should only include visits for POIs that are in `pois`.\n",
        "3. Empty inputs and outputs are possible."
      ]
    },
    {
      "cell_type": "code",
      "execution_count": null,
      "id": "04633ccb",
      "metadata": {
        "nbgrader": {
          "grade": false,
          "locked": true,
          "solution": false
        },
        "tags": [
          "demo_data"
        ],
        "id": "04633ccb"
      },
      "outputs": [],
      "source": [
        "### Define demo inputs\n",
        "demo_users_ex7 = {1290304, 880634, 1972270}\n",
        "\n",
        "demo_checkins_ex7 = \\\n",
        "{491496: [{'date': 'Fri Aug 10 10:01:04 +0000 2012',\n",
        "           'poi': '4f0549d249013460824fbf09'},\n",
        "          {'date': 'Mon Jul 30 13:28:34 +0000 2012',\n",
        "           'poi': '4dd259ade4cd7f7178c663d3'},\n",
        "          {'date': 'Sun Jul 29 01:19:14 +0000 2012',\n",
        "           'poi': '4e17035018388d0d26847618'},\n",
        "          {'date': 'Mon Aug 13 05:42:51 +0000 2012',\n",
        "           'poi': '4d26846a342d6dcbf78ce4ca'}],\n",
        " 880634: [{'date': 'Sun Jul 29 14:23:05 +0000 2012',\n",
        "           'poi': '4ef48cec29c24e3536a28b45'}],\n",
        " 1290304: [{'date': 'Wed Jul 11 07:21:59 +0000 2012',\n",
        "            'poi': '4f64e3f0e4b03a7ce161c360'},\n",
        "           {'date': 'Thu Jul 26 22:23:05 +0000 2012',\n",
        "            'poi': '5009a022e4b058692f5cb2c9'},\n",
        "           {'date': 'Mon Jul 09 06:40:29 +0000 2012',\n",
        "            'poi': '4f64e3f0e4b03a7ce161c360'}],\n",
        " 1972270: [{'date': 'Tue May 15 12:15:40 +0000 2012',\n",
        "            'poi': '4be81fd588ed2d7f3d74cb1d'},\n",
        "           {'date': 'Sat Apr 28 08:35:22 +0000 2012',\n",
        "            'poi': '4c270706b012b713a7fd0893'},\n",
        "           {'date': 'Sat May 19 06:38:19 +0000 2012',\n",
        "            'poi': '4e6b107baeb7c31e43571420'}]}\n",
        "\n",
        "demo_pois_ex7 = \\\n",
        "{'4be81fd588ed2d7f3d74cb1d': {'country_code': 'MY',\n",
        "                              'lat': 1.524932,\n",
        "                              'long': 110.336895,\n",
        "                              'type': 'Fast Food Restaurant'},\n",
        " '4c270706b012b713a7fd0893': {'country_code': 'MY',\n",
        "                              'lat': 1.45373,\n",
        "                              'long': 110.458474,\n",
        "                              'type': 'Malaysian Restaurant'},\n",
        " '4e6b107baeb7c31e43571420': {'country_code': 'MY',\n",
        "                              'lat': 1.456737,\n",
        "                              'long': 110.441649,\n",
        "                              'type': 'Malaysian Restaurant'},\n",
        " '4ef48cec29c24e3536a28b45': {'country_code': 'MY',\n",
        "                              'lat': 2.213388,\n",
        "                              'long': 102.246559,\n",
        "                              'type': 'Coffee Shop'}}"
      ]
    },
    {
      "cell_type": "markdown",
      "id": "445d4ddd",
      "metadata": {
        "nbgrader": {
          "grade": false,
          "locked": true,
          "solution": false
        },
        "tags": [
          "demo_output_md"
        ],
        "id": "445d4ddd"
      },
      "source": [
        "<!-- Expected demo output text block -->\n",
        "Although the demo input above indicates _four_ possible users—three in `demo_users_ex7` and a fourth in `demo_checkins_ex7`—a correct solution applied to the demo inputs above should produce only _two_ visit vectors,\n",
        "```\n",
        "{ 880634: {'4ef48cec29c24e3536a28b45'},\n",
        "  1972270: { '4be81fd588ed2d7f3d74cb1d',\n",
        "             '4c270706b012b713a7fd0893',\n",
        "             '4e6b107baeb7c31e43571420'}}\n",
        "```\n",
        "<!-- Include any shout outs here -->\n",
        "for users `880634` and `1972270`. User `491496` does not have a visit vector because they are not in `demo_users_ex7`. User `1290304` does not appear because none of their check-ins appears in `demo_pois_ex7`."
      ]
    },
    {
      "cell_type": "code",
      "execution_count": null,
      "id": "a845e29d",
      "metadata": {
        "tags": [
          "exercise_solution"
        ],
        "id": "a845e29d"
      },
      "outputs": [],
      "source": [
        "### Exercise 7 solution\n",
        "def form_visit_vectors(users, checkins, pois):\n",
        "    ###\n",
        "    ### YOUR CODE HERE\n",
        "\n",
        "    # GOAL:\n",
        "    # For each user in users, determine which of their visits in checkins has a known POI (meaning it appears in pois). The visit vector of that user will be those POIs.\n",
        "    # Return a Python dictionary of Python sets. The keys are user IDs, and the values are the visit vectors.\n",
        "\n",
        "    # INPUT:\n",
        "    # 3 inputs:\n",
        "    # users: User IDs to process, given as a Python set\n",
        "    # checkins: Check-in records, stored as a dictionary of lists of visit dictionaries (see Part C, Exercise 3)\n",
        "    # pois: POIs, stored as a dictionary of dictionaries\n",
        "\n",
        "    # STRATEGY:\n",
        "    # 1. Create a default dictionary to hold our user IDs and the set of their visit vectors. Let's call this 'visit_vectors'.\n",
        "    # 2. Iterate over user ids in 'users'\n",
        "    # 3. If user id is in 'checkins', grab value for that user id in 'checkins'. This will be a list. Let's call this 'checkins_list'\n",
        "    # 4. Iterate over each nested dictionary in this list, grabbing the poi value\n",
        "    # 5. If this poi is in 'pois', add poi 'visit_vectors' dictionary for that user id\n",
        "    # 6. Return 'visit_vectors'\n",
        "\n",
        "    # SOLUTION:\n",
        "    from collections import defaultdict\n",
        "    visit_vectors = defaultdict(set)\n",
        "\n",
        "    for user_id in users:\n",
        "      if user_id in checkins:\n",
        "        checkins_list = checkins[user_id]\n",
        "        for nested_dict in checkins_list:\n",
        "          poi = nested_dict['poi']\n",
        "          if poi in pois:\n",
        "            visit_vectors[user_id].add(poi)\n",
        "\n",
        "    return visit_vectors\n",
        "\n",
        "\n",
        "\n",
        "### demo function call\n",
        "pprint(form_visit_vectors(demo_users_ex7, demo_checkins_ex7, demo_pois_ex7), indent=2)"
      ]
    },
    {
      "cell_type": "markdown",
      "id": "d70c2c97",
      "metadata": {
        "nbgrader": {
          "grade": false,
          "locked": true,
          "solution": false
        },
        "tags": [
          "test_data_boilerplate"
        ],
        "id": "d70c2c97"
      },
      "source": [
        "<!-- Test Cell Boilerplate -->\n",
        "The cell below will test your solution for Exercise 7. The testing variables will be available for debugging under the following names in a dictionary format.\n",
        "- `input_vars` - Input variables for your solution.\n",
        "- `original_input_vars` - Copy of input variables from prior to running your solution. These _should_ be the same as `input_vars` - otherwise the inputs were modified by your solution.\n",
        "- `returned_output_vars` - Outputs returned by your solution.\n",
        "- `true_output_vars` - The expected output. This _should_ \"match\" `returned_output_vars` based on the question requirements - otherwise, your solution is not returning the correct output."
      ]
    },
    {
      "cell_type": "code",
      "execution_count": null,
      "id": "9367831c",
      "metadata": {
        "nbgrader": {
          "grade": true,
          "grade_id": "ex7",
          "locked": true,
          "points": "2",
          "solution": false
        },
        "tags": [],
        "id": "9367831c"
      },
      "outputs": [],
      "source": [
        "### test_cell_ex7\n",
        "\n",
        "from tester_fw.testers import Tester\n",
        "\n",
        "conf = {\n",
        "    'case_file':'tc_7',\n",
        "    'func': form_visit_vectors, # replace this with the function defined above\n",
        "    'inputs':{ # input config dict. keys are parameter names\n",
        "        'users':{\n",
        "            'dtype':'set', # data type of param.\n",
        "            'check_modified':True,\n",
        "        },\n",
        "        'checkins':{\n",
        "            'dtype':'dict', # data type of param.\n",
        "            'check_modified':True,\n",
        "        },\n",
        "        'pois':{\n",
        "            'dtype':'dict', # data type of param.\n",
        "            'check_modified':True,\n",
        "        }\n",
        "    },\n",
        "    'outputs':{\n",
        "        'output_0':{\n",
        "            'index':0,\n",
        "            'dtype':'dict',\n",
        "            'check_dtype': True,\n",
        "            'check_col_dtypes': True, # Ignored if dtype is not df\n",
        "            'check_col_order': True, # Ignored if dtype is not df\n",
        "            'check_row_order': True, # Ignored if dtype is not df\n",
        "            'check_column_type': True, # Ignored if dtype is not df\n",
        "            'float_tolerance': 10 ** (-6)\n",
        "        }\n",
        "    }\n",
        "}\n",
        "tester = Tester(conf, key=b'1ZePXzAcTR7lcNpmx1HRK0lT3v-Ikrg8mZ3n-wVFTBo=', path='')\n",
        "for _ in range(70):\n",
        "    try:\n",
        "        tester.run_test()\n",
        "        (input_vars, original_input_vars, returned_output_vars, true_output_vars) = tester.get_test_vars()\n",
        "    except:\n",
        "        (input_vars, original_input_vars, returned_output_vars, true_output_vars) = tester.get_test_vars()\n",
        "        raise\n",
        "\n",
        "print('Passed! Please submit.')"
      ]
    },
    {
      "cell_type": "code",
      "execution_count": null,
      "id": "a4cb0bd3",
      "metadata": {
        "id": "a4cb0bd3"
      },
      "outputs": [],
      "source": []
    }
  ],
  "metadata": {
    "interpreter": {
      "hash": "f2b38b6e01547e8f771d473ea2b8718fd0728eea782e4c924ed8783f739d4a6c"
    },
    "kernelspec": {
      "display_name": "Python 3 (ipykernel)",
      "language": "python",
      "name": "python3"
    },
    "language_info": {
      "codemirror_mode": {
        "name": "ipython",
        "version": 3
      },
      "file_extension": ".py",
      "mimetype": "text/x-python",
      "name": "python",
      "nbconvert_exporter": "python",
      "pygments_lexer": "ipython3",
      "version": "3.9.13"
    },
    "toc": {
      "base_numbering": 1,
      "nav_menu": {},
      "number_sections": true,
      "sideBar": true,
      "skip_h1_title": false,
      "title_cell": "Table of Contents",
      "title_sidebar": "Contents",
      "toc_cell": false,
      "toc_position": {
        "height": "790px",
        "left": "241px",
        "top": "67.1333px",
        "width": "384px"
      },
      "toc_section_display": true,
      "toc_window_display": true
    },
    "colab": {
      "provenance": [],
      "include_colab_link": true
    }
  },
  "nbformat": 4,
  "nbformat_minor": 5
}