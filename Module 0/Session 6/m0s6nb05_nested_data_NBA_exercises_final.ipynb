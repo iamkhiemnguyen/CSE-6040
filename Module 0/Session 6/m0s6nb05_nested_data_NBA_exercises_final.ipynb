{
  "cells": [
    {
      "cell_type": "markdown",
      "metadata": {
        "id": "view-in-github",
        "colab_type": "text"
      },
      "source": [
        "<a href=\"https://colab.research.google.com/github/iamkhiemnguyen/CSE-6040/blob/main/Module%200/Session%206/m0s6nb05_nested_data_NBA_exercises_final.ipynb\" target=\"_parent\"><img src=\"https://colab.research.google.com/assets/colab-badge.svg\" alt=\"Open In Colab\"/></a>"
      ]
    },
    {
      "cell_type": "markdown",
      "id": "47502a76",
      "metadata": {
        "id": "47502a76"
      },
      "source": [
        "# Nested Data Structures: NBA Player Analysis -- Part 2\n",
        "\n",
        "## This notebook is an application of the NBA nested data notebook.\n",
        "\n",
        "## We will be taking this nested data structure and working through what might be a typical 2 or 3 point exam exercise. This will require us to execute multiple steps to come to our final answer.\n",
        "\n",
        "### We will use a helper function as a part of the solution."
      ]
    },
    {
      "cell_type": "code",
      "source": [
        "!wget https://raw.githubusercontent.com/gt-cse-6040/bootcamp/main/Module%200/Session%206/nba_json.txt"
      ],
      "metadata": {
        "id": "-qJuTz1LljJ-"
      },
      "id": "-qJuTz1LljJ-",
      "execution_count": null,
      "outputs": []
    },
    {
      "cell_type": "markdown",
      "id": "6418b53f",
      "metadata": {
        "id": "6418b53f"
      },
      "source": [
        "#### Data loading. This will normally be provided in the exam, and the students will not be required to load data from input files."
      ]
    },
    {
      "cell_type": "code",
      "execution_count": null,
      "id": "c813cfad",
      "metadata": {
        "scrolled": true,
        "id": "c813cfad"
      },
      "outputs": [],
      "source": [
        "# loading the data, same as the previous NB\n",
        "# import the required package\n",
        "import ast\n",
        "\n",
        "# reading the data from the json file\n",
        "with open('nba_json.txt') as f:\n",
        "    data = f.readlines()\n",
        "\n",
        "nested = [] # this is going to be our nested data structure\n",
        "#put each line(string) into a dictionary\n",
        "for line in data:\n",
        "    result = ast.literal_eval(line)\n",
        "#     print(result)\n",
        "    nested.append(result)"
      ]
    },
    {
      "cell_type": "markdown",
      "id": "6bb3da9d",
      "metadata": {
        "id": "6bb3da9d"
      },
      "source": [
        "### As we know from the previous NB, the key 'resultSets' contains the data the we will want to manipulate.\n",
        "\n",
        "### Let's take a look at it again. This step will generally be provided on the exam, for the student to be able to visualize the source data that is to be analyzed."
      ]
    },
    {
      "cell_type": "code",
      "execution_count": null,
      "id": "99280f6a",
      "metadata": {
        "id": "99280f6a"
      },
      "outputs": [],
      "source": [
        "print(nested[0]['resultSets'])\n",
        "print('\\n')\n",
        "print(nested[0]['resultSets'][0].keys())"
      ]
    },
    {
      "cell_type": "markdown",
      "id": "a65a6f50",
      "metadata": {
        "id": "a65a6f50"
      },
      "source": [
        "## Note that this is a list containing a single dictionary, with three keys. Remember also that we showed this in Python Tutor, in the previous notebook.\n",
        "\n",
        "#### The key 'rowSet' contains the statistics that we are interested in, and the key 'headers' defines what each of the statisics is.\n",
        "\n",
        "#### Note that this first dict is for the player Al-Farouq Aminu, with the player_id 202329."
      ]
    },
    {
      "cell_type": "code",
      "execution_count": null,
      "id": "eb261382",
      "metadata": {
        "scrolled": true,
        "id": "eb261382"
      },
      "outputs": [],
      "source": [
        "print(nested[0]['resultSets'][0]['headers'])\n",
        "print('\\n')\n",
        "print(nested[0]['resultSets'][0]['rowSet'])\n",
        "print('\\n')\n",
        "print(nested[0]['resultSets'][0]['rowSet'][0])\n",
        "# print('\\n')\n",
        "# print(nested[0]['resultSets'][0]['rowSet'][1])"
      ]
    },
    {
      "cell_type": "markdown",
      "id": "015586cf",
      "metadata": {
        "id": "015586cf"
      },
      "source": [
        "## Exercise 0 (3 points)\n",
        "\n",
        "### Who are the players that each defensive player guarded during the season, and how effective was the defensive player against each?\n",
        "\n",
        "### Write a function, `players_guarded_minutes_dict_sorted(var_stats, DEF_PLAYER_NAME)` that outputs a list of dictionaries.\n",
        "\n",
        "1. Within the list, there will be an individual dictionary for each defensive player name.\n",
        "\n",
        "2. The dictionary key is the defensive player's name, and the value is a list of tuples.\n",
        "\n",
        "    a. The first item of each tuple is the name of the offensive players he guarded, and the second item of the tuple is the number of points allowed.\n",
        "\n",
        "    b. The list of tuples should be sorted by the number of points allowed, from most to least.\n",
        "\n",
        "    c. If the points are the same, then sort by the name in alphabetical order.\n",
        "    \n",
        "#### Note that items b and c, the sorting, are requirements that are VERY COMMON to see on exams."
      ]
    },
    {
      "cell_type": "markdown",
      "id": "8dbb3cd7",
      "metadata": {
        "id": "8dbb3cd7"
      },
      "source": [
        "#### For the function, the `var_stats` parameter will be the `nested` variable. This is a list of dictionaries.\n",
        "\n",
        "#### The `DEF_PLAYER_NAME` parameter will be a list of the defensive players to include in the output dictionary.\n",
        "\n",
        "For example, an input might be:"
      ]
    },
    {
      "cell_type": "code",
      "execution_count": null,
      "id": "a714b08e",
      "metadata": {
        "id": "a714b08e"
      },
      "outputs": [],
      "source": [
        "var_stats = (nested)\n",
        "DEF_PLAYER_NAME = ['Al-Farouq Aminu','Bam Adebayo','Giannis Antetokounmpo',\n",
        "                   'Nickeil Alexander-Walker', 'Kyle Anderson', 'Jarrett Allen', 'Grayson Allen']\n",
        "# print(var_stats)\n",
        "# print(DEF_PLAYER_NAME)"
      ]
    },
    {
      "cell_type": "markdown",
      "id": "9298c43f",
      "metadata": {
        "id": "9298c43f"
      },
      "source": [
        "#### To solve the problem, your function might do the following:\n",
        "\n",
        "1. Create an empty list to return (overall list)\n",
        "\n",
        "2. Loop over the list of the defensive players\n",
        "\n",
        "    a. For each defensive player, find the nested dictionary with this player's information. The dictionary will be at the following level:\n",
        "\n",
        "        `players_guarded_dict(nested[#]['resultSets'][0]`.\n",
        "\n",
        "\n",
        "    b. Loop over the players guarded -- You might want to use a helper function for the below activities\n",
        "        i. create each tuple, with name and points allowed.\n",
        "\n",
        "        ii. Append each tuple to the list for the player\n",
        "\n",
        "        iii. Sort the list of tuples\n",
        "\n",
        "    e. Populate the dictionary for that player, with key being the defensive player name and the value being the list of tuples.\n",
        "    \n",
        "    f. Append the overall list with that player's dictionary\n",
        "    \n",
        "3. Return the overall list\n",
        "\n",
        "## <span style=\"background-color: #FFFF00\"> If you see something like this on an exam, this is giving you the steps that you will want to take for your solution.</span>\n",
        "\n",
        "## <span style=\"background-color: #FFFF00\"> So these are the steps of your `STRATEGY` in the `Problem Solving Method`.</span>"
      ]
    },
    {
      "cell_type": "markdown",
      "id": "401aa6d9",
      "metadata": {
        "id": "401aa6d9"
      },
      "source": [
        "#### If your code executes successfully, the output will be:"
      ]
    },
    {
      "cell_type": "code",
      "execution_count": null,
      "id": "76564ad1",
      "metadata": {
        "id": "76564ad1"
      },
      "outputs": [],
      "source": [
        "final_result = [{'Al-Farouq Aminu': [('OG Anunoby', 5), ('Kevin Love', 4), ('Rui Hachimura', 4), ('Trey Lyles', 3)]},\n",
        "                {'Bam Adebayo': [('Joel Embiid', 31), ('Nikola Vucevic', 22), ('Myles Turner', 13), ('John Collins', 10)]},\n",
        "                {'Giannis Antetokounmpo': [('Kevin Love', 23), ('Lauri Markkanen', 11), ('Ben Simmons', 5), ('Myles Turner', 5)]},\n",
        "                {'Nickeil Alexander-Walker': [('Jordan Clarkson', 16), ('Seth Curry', 5), ('Jerome Robinson', 0)]},\n",
        "                {'Kyle Anderson': [('Joe Ingles', 21), ('Harrison Barnes', 17), ('Aaron Gordon', 6), ('Nemanja Bjelica', 3)]},\n",
        "                {'Jarrett Allen': [('Bam Adebayo', 27), ('Andre Drummond', 21), ('Nikola Vucevic', 21), ('Daniel Theis', 13)]},\n",
        "                {'Grayson Allen': [('Donovan Mitchell', 11), ('Bryn Forbes', 4), ('Kyle Korver', 3)]}]"
      ]
    },
    {
      "cell_type": "markdown",
      "id": "62b3fc05",
      "metadata": {
        "id": "62b3fc05"
      },
      "source": [
        "#### How are we going to find the values that we need?"
      ]
    },
    {
      "cell_type": "code",
      "execution_count": null,
      "id": "3e57125a",
      "metadata": {
        "id": "3e57125a"
      },
      "outputs": [],
      "source": [
        "print('What does each dictionary look like, in var_stats?')\n",
        "print(var_stats[0]['resultSets'][0])\n",
        "print('\\n')\n",
        "\n",
        "print('List of statistics for each player matchup')\n",
        "print(var_stats[0]['resultSets'][0]['rowSet'][0])\n",
        "print('\\n')\n",
        "\n",
        "print('defensive player name')\n",
        "print(var_stats[0]['resultSets'][0]['rowSet'][0][4])\n",
        "print('\\n')\n",
        "\n",
        "print('offensive player name')\n",
        "print(var_stats[0]['resultSets'][0]['rowSet'][0][2])\n",
        "print('\\n')\n",
        "\n",
        "print('points scored/allowed')\n",
        "print(var_stats[0]['resultSets'][0]['rowSet'][0][8])"
      ]
    },
    {
      "cell_type": "code",
      "execution_count": null,
      "id": "a9e97584",
      "metadata": {
        "id": "a9e97584"
      },
      "outputs": [],
      "source": [
        "def players_guarded_minutes_dict_sorted(var_stats, DEF_PLAYER_NAME):\n",
        "    ###YOUR CODE HERE\n",
        "\n",
        "#     helper function\n",
        "    def create_tuples_list(stats):\n",
        "        player_list = []\n",
        "        for player_guarded in stats:\n",
        "            player_tuple = (player_guarded[2],player_guarded[8])\n",
        "#                     print(player_tuple)\n",
        "            player_list.append(player_tuple)\n",
        "\n",
        "#         this code uses a lambda function, which we have not yet covered\n",
        "#         don't worry about understanding it yet\n",
        "#         but you will want to have this code snippet on your \"speed dial\"\n",
        "#         of useful code examples for the exam\n",
        "\n",
        "        # https://www.geeksforgeeks.org/python-mutiple-column-sort-in-tuples/\n",
        "        # https://www.geeksforgeeks.org/python-program-to-sort-a-list-of-tuples-by-second-item/\n",
        "        player_list = sorted(player_list, key = lambda x: (-x[1], x[0]))\n",
        "        return player_list\n",
        "\n",
        "\n",
        "    ret_list = []\n",
        "\n",
        "\n",
        "    for player in DEF_PLAYER_NAME:\n",
        "\n",
        "        for item in range(0,len(var_stats)):\n",
        "\n",
        "            player_dict = {}\n",
        "\n",
        "#             get the list of players guarded stats\n",
        "            stats = (var_stats[item]['resultSets'][0]['rowSet'])\n",
        "\n",
        "            if (stats[0][4] == player):\n",
        "#                 call the helper function\n",
        "                tup_list = create_tuples_list(stats)\n",
        "\n",
        "                player_dict[player] = tup_list\n",
        "\n",
        "                ret_list.append(player_dict)\n",
        "\n",
        "    return ret_list\n",
        "\n",
        "# use for testing\n",
        "# print(players_guarded_minutes_dict_sorted(var_stats, DEF_PLAYER_NAME))"
      ]
    },
    {
      "cell_type": "code",
      "execution_count": null,
      "id": "98d48e74",
      "metadata": {
        "id": "98d48e74"
      },
      "outputs": [],
      "source": [
        "# TEST CELL\n",
        "# test code\n",
        "OUTPUT_LIST = players_guarded_minutes_dict_sorted(var_stats, DEF_PLAYER_NAME)"
      ]
    },
    {
      "cell_type": "code",
      "execution_count": null,
      "id": "af073da5",
      "metadata": {
        "id": "af073da5"
      },
      "outputs": [],
      "source": [
        "assert(OUTPUT_LIST == final_result), 'Your output does not match the solution'\n",
        "print('passed')"
      ]
    },
    {
      "cell_type": "code",
      "execution_count": null,
      "id": "e1ba3d5e",
      "metadata": {
        "id": "e1ba3d5e"
      },
      "outputs": [],
      "source": []
    }
  ],
  "metadata": {
    "kernelspec": {
      "display_name": "Python 3 (ipykernel)",
      "language": "python",
      "name": "python3"
    },
    "language_info": {
      "codemirror_mode": {
        "name": "ipython",
        "version": 3
      },
      "file_extension": ".py",
      "mimetype": "text/x-python",
      "name": "python",
      "nbconvert_exporter": "python",
      "pygments_lexer": "ipython3",
      "version": "3.9.13"
    },
    "colab": {
      "provenance": [],
      "include_colab_link": true
    }
  },
  "nbformat": 4,
  "nbformat_minor": 5
}